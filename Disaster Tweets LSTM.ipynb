{
 "cells": [
  {
   "cell_type": "markdown",
   "id": "017f13a4",
   "metadata": {
    "papermill": {
     "duration": 0.010452,
     "end_time": "2022-07-28T17:43:27.406915",
     "exception": false,
     "start_time": "2022-07-28T17:43:27.396463",
     "status": "completed"
    },
    "tags": []
   },
   "source": [
    "# This Notebook is my first attempt at understanding NLP and expand my knowledge. \n",
    "## Please feel free to comment for any doubts or improvement advice."
   ]
  },
  {
   "cell_type": "code",
   "execution_count": 1,
   "id": "ae1b06e4",
   "metadata": {
    "execution": {
     "iopub.execute_input": "2022-07-28T17:43:27.427719Z",
     "iopub.status.busy": "2022-07-28T17:43:27.427071Z",
     "iopub.status.idle": "2022-07-28T17:43:39.943119Z",
     "shell.execute_reply": "2022-07-28T17:43:39.941744Z"
    },
    "papermill": {
     "duration": 12.5297,
     "end_time": "2022-07-28T17:43:39.945958",
     "exception": false,
     "start_time": "2022-07-28T17:43:27.416258",
     "status": "completed"
    },
    "tags": []
   },
   "outputs": [
    {
     "name": "stdout",
     "output_type": "stream",
     "text": [
      "Collecting num2words\r\n",
      "  Downloading num2words-0.5.10-py3-none-any.whl (101 kB)\r\n",
      "\u001b[2K     \u001b[90m━━━━━━━━━━━━━━━━━━━━━━━━━━━━━━━━━━━━━━━\u001b[0m \u001b[32m101.6/101.6 kB\u001b[0m \u001b[31m2.0 MB/s\u001b[0m eta \u001b[36m0:00:00\u001b[0m\r\n",
      "\u001b[?25hRequirement already satisfied: docopt>=0.6.2 in /opt/conda/lib/python3.7/site-packages (from num2words) (0.6.2)\r\n",
      "Installing collected packages: num2words\r\n",
      "Successfully installed num2words-0.5.10\r\n",
      "\u001b[33mWARNING: Running pip as the 'root' user can result in broken permissions and conflicting behaviour with the system package manager. It is recommended to use a virtual environment instead: https://pip.pypa.io/warnings/venv\u001b[0m\u001b[33m\r\n",
      "\u001b[0m"
     ]
    }
   ],
   "source": [
    "!pip install num2words"
   ]
  },
  {
   "cell_type": "code",
   "execution_count": 2,
   "id": "18207cf5",
   "metadata": {
    "_cell_guid": "b1076dfc-b9ad-4769-8c92-a6c4dae69d19",
    "_uuid": "8f2839f25d086af736a60e9eeb907d3b93b6e0e5",
    "execution": {
     "iopub.execute_input": "2022-07-28T17:43:39.967527Z",
     "iopub.status.busy": "2022-07-28T17:43:39.967117Z",
     "iopub.status.idle": "2022-07-28T17:43:51.133755Z",
     "shell.execute_reply": "2022-07-28T17:43:51.132779Z"
    },
    "papermill": {
     "duration": 11.180721,
     "end_time": "2022-07-28T17:43:51.136612",
     "exception": false,
     "start_time": "2022-07-28T17:43:39.955891",
     "status": "completed"
    },
    "tags": []
   },
   "outputs": [],
   "source": [
    "import numpy as np\n",
    "import pandas as pd\n",
    "import matplotlib.pyplot as plt\n",
    "%matplotlib inline\n",
    "import seaborn as sns\n",
    "import warnings\n",
    "warnings.filterwarnings(\"ignore\")\n",
    "\n",
    "# Preprocessing Libraries\n",
    "\n",
    "import string\n",
    "import re\n",
    "import nltk\n",
    "from nltk.corpus import stopwords\n",
    "from nltk.tokenize import word_tokenize\n",
    "from nltk.stem import PorterStemmer, LancasterStemmer\n",
    "from collections import Counter\n",
    "from num2words import num2words\n",
    "\n",
    "# Machine Learning Libraries\n",
    "\n",
    "import tensorflow as tf\n",
    "from tensorflow.keras.preprocessing.text import Tokenizer\n",
    "from tensorflow.keras.preprocessing.sequence import pad_sequences"
   ]
  },
  {
   "cell_type": "code",
   "execution_count": 3,
   "id": "e211db60",
   "metadata": {
    "execution": {
     "iopub.execute_input": "2022-07-28T17:43:51.159116Z",
     "iopub.status.busy": "2022-07-28T17:43:51.157975Z",
     "iopub.status.idle": "2022-07-28T17:43:51.237465Z",
     "shell.execute_reply": "2022-07-28T17:43:51.236393Z"
    },
    "papermill": {
     "duration": 0.093535,
     "end_time": "2022-07-28T17:43:51.240125",
     "exception": false,
     "start_time": "2022-07-28T17:43:51.146590",
     "status": "completed"
    },
    "tags": []
   },
   "outputs": [],
   "source": [
    "train = pd.read_csv(\"../input/nlp-getting-started/train.csv\")\n",
    "test = pd.read_csv(\"../input/nlp-getting-started/test.csv\")"
   ]
  },
  {
   "cell_type": "code",
   "execution_count": 4,
   "id": "6691db06",
   "metadata": {
    "execution": {
     "iopub.execute_input": "2022-07-28T17:43:51.261737Z",
     "iopub.status.busy": "2022-07-28T17:43:51.261379Z",
     "iopub.status.idle": "2022-07-28T17:43:51.289123Z",
     "shell.execute_reply": "2022-07-28T17:43:51.287554Z"
    },
    "papermill": {
     "duration": 0.041298,
     "end_time": "2022-07-28T17:43:51.291399",
     "exception": false,
     "start_time": "2022-07-28T17:43:51.250101",
     "status": "completed"
    },
    "tags": []
   },
   "outputs": [
    {
     "name": "stdout",
     "output_type": "stream",
     "text": [
      "<class 'pandas.core.frame.DataFrame'>\n",
      "RangeIndex: 7613 entries, 0 to 7612\n",
      "Data columns (total 5 columns):\n",
      " #   Column    Non-Null Count  Dtype \n",
      "---  ------    --------------  ----- \n",
      " 0   id        7613 non-null   int64 \n",
      " 1   keyword   7552 non-null   object\n",
      " 2   location  5080 non-null   object\n",
      " 3   text      7613 non-null   object\n",
      " 4   target    7613 non-null   int64 \n",
      "dtypes: int64(2), object(3)\n",
      "memory usage: 297.5+ KB\n",
      "None\n"
     ]
    }
   ],
   "source": [
    "print(train.info())"
   ]
  },
  {
   "cell_type": "code",
   "execution_count": 5,
   "id": "e8713a64",
   "metadata": {
    "execution": {
     "iopub.execute_input": "2022-07-28T17:43:51.313659Z",
     "iopub.status.busy": "2022-07-28T17:43:51.312899Z",
     "iopub.status.idle": "2022-07-28T17:43:51.317672Z",
     "shell.execute_reply": "2022-07-28T17:43:51.316909Z"
    },
    "papermill": {
     "duration": 0.01901,
     "end_time": "2022-07-28T17:43:51.320543",
     "exception": false,
     "start_time": "2022-07-28T17:43:51.301533",
     "status": "completed"
    },
    "tags": []
   },
   "outputs": [
    {
     "name": "stdout",
     "output_type": "stream",
     "text": [
      "(7613, 5)\n"
     ]
    }
   ],
   "source": [
    "print(train.shape)"
   ]
  },
  {
   "cell_type": "code",
   "execution_count": 6,
   "id": "4a321e60",
   "metadata": {
    "execution": {
     "iopub.execute_input": "2022-07-28T17:43:51.343858Z",
     "iopub.status.busy": "2022-07-28T17:43:51.343151Z",
     "iopub.status.idle": "2022-07-28T17:43:51.359729Z",
     "shell.execute_reply": "2022-07-28T17:43:51.358885Z"
    },
    "papermill": {
     "duration": 0.030531,
     "end_time": "2022-07-28T17:43:51.361911",
     "exception": false,
     "start_time": "2022-07-28T17:43:51.331380",
     "status": "completed"
    },
    "tags": []
   },
   "outputs": [
    {
     "data": {
      "text/html": [
       "<div>\n",
       "<style scoped>\n",
       "    .dataframe tbody tr th:only-of-type {\n",
       "        vertical-align: middle;\n",
       "    }\n",
       "\n",
       "    .dataframe tbody tr th {\n",
       "        vertical-align: top;\n",
       "    }\n",
       "\n",
       "    .dataframe thead th {\n",
       "        text-align: right;\n",
       "    }\n",
       "</style>\n",
       "<table border=\"1\" class=\"dataframe\">\n",
       "  <thead>\n",
       "    <tr style=\"text-align: right;\">\n",
       "      <th></th>\n",
       "      <th>id</th>\n",
       "      <th>keyword</th>\n",
       "      <th>location</th>\n",
       "      <th>text</th>\n",
       "      <th>target</th>\n",
       "    </tr>\n",
       "  </thead>\n",
       "  <tbody>\n",
       "    <tr>\n",
       "      <th>0</th>\n",
       "      <td>1</td>\n",
       "      <td>NaN</td>\n",
       "      <td>NaN</td>\n",
       "      <td>Our Deeds are the Reason of this #earthquake M...</td>\n",
       "      <td>1</td>\n",
       "    </tr>\n",
       "    <tr>\n",
       "      <th>1</th>\n",
       "      <td>4</td>\n",
       "      <td>NaN</td>\n",
       "      <td>NaN</td>\n",
       "      <td>Forest fire near La Ronge Sask. Canada</td>\n",
       "      <td>1</td>\n",
       "    </tr>\n",
       "    <tr>\n",
       "      <th>2</th>\n",
       "      <td>5</td>\n",
       "      <td>NaN</td>\n",
       "      <td>NaN</td>\n",
       "      <td>All residents asked to 'shelter in place' are ...</td>\n",
       "      <td>1</td>\n",
       "    </tr>\n",
       "    <tr>\n",
       "      <th>3</th>\n",
       "      <td>6</td>\n",
       "      <td>NaN</td>\n",
       "      <td>NaN</td>\n",
       "      <td>13,000 people receive #wildfires evacuation or...</td>\n",
       "      <td>1</td>\n",
       "    </tr>\n",
       "    <tr>\n",
       "      <th>4</th>\n",
       "      <td>7</td>\n",
       "      <td>NaN</td>\n",
       "      <td>NaN</td>\n",
       "      <td>Just got sent this photo from Ruby #Alaska as ...</td>\n",
       "      <td>1</td>\n",
       "    </tr>\n",
       "  </tbody>\n",
       "</table>\n",
       "</div>"
      ],
      "text/plain": [
       "   id keyword location                                               text  \\\n",
       "0   1     NaN      NaN  Our Deeds are the Reason of this #earthquake M...   \n",
       "1   4     NaN      NaN             Forest fire near La Ronge Sask. Canada   \n",
       "2   5     NaN      NaN  All residents asked to 'shelter in place' are ...   \n",
       "3   6     NaN      NaN  13,000 people receive #wildfires evacuation or...   \n",
       "4   7     NaN      NaN  Just got sent this photo from Ruby #Alaska as ...   \n",
       "\n",
       "   target  \n",
       "0       1  \n",
       "1       1  \n",
       "2       1  \n",
       "3       1  \n",
       "4       1  "
      ]
     },
     "execution_count": 6,
     "metadata": {},
     "output_type": "execute_result"
    }
   ],
   "source": [
    "train.head()"
   ]
  },
  {
   "cell_type": "markdown",
   "id": "e5ebc88c",
   "metadata": {
    "papermill": {
     "duration": 0.009779,
     "end_time": "2022-07-28T17:43:51.382555",
     "exception": false,
     "start_time": "2022-07-28T17:43:51.372776",
     "status": "completed"
    },
    "tags": []
   },
   "source": [
    "# In order to proceed further I will perform some EDA to understand the data."
   ]
  },
  {
   "cell_type": "code",
   "execution_count": 7,
   "id": "fcc8abb0",
   "metadata": {
    "execution": {
     "iopub.execute_input": "2022-07-28T17:43:51.404422Z",
     "iopub.status.busy": "2022-07-28T17:43:51.404034Z",
     "iopub.status.idle": "2022-07-28T17:43:51.594135Z",
     "shell.execute_reply": "2022-07-28T17:43:51.592984Z"
    },
    "papermill": {
     "duration": 0.204066,
     "end_time": "2022-07-28T17:43:51.596660",
     "exception": false,
     "start_time": "2022-07-28T17:43:51.392594",
     "status": "completed"
    },
    "tags": []
   },
   "outputs": [
    {
     "data": {
      "text/plain": [
       "<AxesSubplot:xlabel='target', ylabel='count'>"
      ]
     },
     "execution_count": 7,
     "metadata": {},
     "output_type": "execute_result"
    },
    {
     "data": {
      "image/png": "[encoded data removed]",
      "text/plain": [
       "<Figure size 432x288 with 1 Axes>"
      ]
     },
     "metadata": {},
     "output_type": "display_data"
    }
   ],
   "source": [
    "sns.set_style('darkgrid')\n",
    "sns.countplot(x=train['target'],palette='GnBu')"
   ]
  },
  {
   "cell_type": "markdown",
   "id": "6bd4b0d9",
   "metadata": {
    "papermill": {
     "duration": 0.010786,
     "end_time": "2022-07-28T17:43:51.617871",
     "exception": false,
     "start_time": "2022-07-28T17:43:51.607085",
     "status": "completed"
    },
    "tags": []
   },
   "source": [
    "The following is the meaning of the target labels:\n",
    "* 0: Non Disaster\n",
    "* 1: Disaster"
   ]
  },
  {
   "cell_type": "code",
   "execution_count": 8,
   "id": "d3eb1eb2",
   "metadata": {
    "execution": {
     "iopub.execute_input": "2022-07-28T17:43:51.640447Z",
     "iopub.status.busy": "2022-07-28T17:43:51.640069Z",
     "iopub.status.idle": "2022-07-28T17:43:52.061018Z",
     "shell.execute_reply": "2022-07-28T17:43:52.059814Z"
    },
    "papermill": {
     "duration": 0.435305,
     "end_time": "2022-07-28T17:43:52.063576",
     "exception": false,
     "start_time": "2022-07-28T17:43:51.628271",
     "status": "completed"
    },
    "tags": []
   },
   "outputs": [
    {
     "data": {
      "image/png": "[encoded data removed]",
      "text/plain": [
       "<Figure size 720x360 with 2 Axes>"
      ]
     },
     "metadata": {},
     "output_type": "display_data"
    }
   ],
   "source": [
    "fig,ax=plt.subplots(1,2,figsize=(10,5))\n",
    "disaster_tweet=train[train['target']==1]['text'].str.len()\n",
    "ax[0].hist(disaster_tweet,color='#3b6df4')\n",
    "ax[0].set_title('disaster tweets')\n",
    "notdisaster_tweet=train[train['target']==0]['text'].str.len()\n",
    "ax[1].hist(notdisaster_tweet,color='#8de9b8')\n",
    "ax[1].set_title('Not disaster tweets')\n",
    "fig.suptitle('Characters in tweets')\n",
    "plt.show()"
   ]
  },
  {
   "cell_type": "code",
   "execution_count": 9,
   "id": "29c708be",
   "metadata": {
    "execution": {
     "iopub.execute_input": "2022-07-28T17:43:52.087798Z",
     "iopub.status.busy": "2022-07-28T17:43:52.086812Z",
     "iopub.status.idle": "2022-07-28T17:43:52.104589Z",
     "shell.execute_reply": "2022-07-28T17:43:52.103505Z"
    },
    "papermill": {
     "duration": 0.032547,
     "end_time": "2022-07-28T17:43:52.107083",
     "exception": false,
     "start_time": "2022-07-28T17:43:52.074536",
     "status": "completed"
    },
    "tags": []
   },
   "outputs": [
    {
     "data": {
      "text/html": [
       "<div>\n",
       "<style scoped>\n",
       "    .dataframe tbody tr th:only-of-type {\n",
       "        vertical-align: middle;\n",
       "    }\n",
       "\n",
       "    .dataframe tbody tr th {\n",
       "        vertical-align: top;\n",
       "    }\n",
       "\n",
       "    .dataframe thead th {\n",
       "        text-align: right;\n",
       "    }\n",
       "</style>\n",
       "<table border=\"1\" class=\"dataframe\">\n",
       "  <thead>\n",
       "    <tr style=\"text-align: right;\">\n",
       "      <th></th>\n",
       "      <th>id</th>\n",
       "      <th>keyword</th>\n",
       "      <th>location</th>\n",
       "      <th>text</th>\n",
       "      <th>target</th>\n",
       "    </tr>\n",
       "  </thead>\n",
       "  <tbody>\n",
       "    <tr>\n",
       "      <th>0</th>\n",
       "      <td>1</td>\n",
       "      <td>NaN</td>\n",
       "      <td>NaN</td>\n",
       "      <td>Our Deeds are the Reason of this #earthquake M...</td>\n",
       "      <td>1</td>\n",
       "    </tr>\n",
       "    <tr>\n",
       "      <th>1</th>\n",
       "      <td>4</td>\n",
       "      <td>NaN</td>\n",
       "      <td>NaN</td>\n",
       "      <td>Forest fire near La Ronge Sask. Canada</td>\n",
       "      <td>1</td>\n",
       "    </tr>\n",
       "    <tr>\n",
       "      <th>2</th>\n",
       "      <td>5</td>\n",
       "      <td>NaN</td>\n",
       "      <td>NaN</td>\n",
       "      <td>All residents asked to 'shelter in place' are ...</td>\n",
       "      <td>1</td>\n",
       "    </tr>\n",
       "    <tr>\n",
       "      <th>3</th>\n",
       "      <td>6</td>\n",
       "      <td>NaN</td>\n",
       "      <td>NaN</td>\n",
       "      <td>13,000 people receive #wildfires evacuation or...</td>\n",
       "      <td>1</td>\n",
       "    </tr>\n",
       "    <tr>\n",
       "      <th>4</th>\n",
       "      <td>7</td>\n",
       "      <td>NaN</td>\n",
       "      <td>NaN</td>\n",
       "      <td>Just got sent this photo from Ruby #Alaska as ...</td>\n",
       "      <td>1</td>\n",
       "    </tr>\n",
       "    <tr>\n",
       "      <th>...</th>\n",
       "      <td>...</td>\n",
       "      <td>...</td>\n",
       "      <td>...</td>\n",
       "      <td>...</td>\n",
       "      <td>...</td>\n",
       "    </tr>\n",
       "    <tr>\n",
       "      <th>7608</th>\n",
       "      <td>10869</td>\n",
       "      <td>NaN</td>\n",
       "      <td>NaN</td>\n",
       "      <td>Two giant cranes holding a bridge collapse int...</td>\n",
       "      <td>1</td>\n",
       "    </tr>\n",
       "    <tr>\n",
       "      <th>7609</th>\n",
       "      <td>10870</td>\n",
       "      <td>NaN</td>\n",
       "      <td>NaN</td>\n",
       "      <td>@aria_ahrary @TheTawniest The out of control w...</td>\n",
       "      <td>1</td>\n",
       "    </tr>\n",
       "    <tr>\n",
       "      <th>7610</th>\n",
       "      <td>10871</td>\n",
       "      <td>NaN</td>\n",
       "      <td>NaN</td>\n",
       "      <td>M1.94 [01:04 UTC]?5km S of Volcano Hawaii. htt...</td>\n",
       "      <td>1</td>\n",
       "    </tr>\n",
       "    <tr>\n",
       "      <th>7611</th>\n",
       "      <td>10872</td>\n",
       "      <td>NaN</td>\n",
       "      <td>NaN</td>\n",
       "      <td>Police investigating after an e-bike collided ...</td>\n",
       "      <td>1</td>\n",
       "    </tr>\n",
       "    <tr>\n",
       "      <th>7612</th>\n",
       "      <td>10873</td>\n",
       "      <td>NaN</td>\n",
       "      <td>NaN</td>\n",
       "      <td>The Latest: More Homes Razed by Northern Calif...</td>\n",
       "      <td>1</td>\n",
       "    </tr>\n",
       "  </tbody>\n",
       "</table>\n",
       "<p>7613 rows × 5 columns</p>\n",
       "</div>"
      ],
      "text/plain": [
       "         id keyword location  \\\n",
       "0         1     NaN      NaN   \n",
       "1         4     NaN      NaN   \n",
       "2         5     NaN      NaN   \n",
       "3         6     NaN      NaN   \n",
       "4         7     NaN      NaN   \n",
       "...     ...     ...      ...   \n",
       "7608  10869     NaN      NaN   \n",
       "7609  10870     NaN      NaN   \n",
       "7610  10871     NaN      NaN   \n",
       "7611  10872     NaN      NaN   \n",
       "7612  10873     NaN      NaN   \n",
       "\n",
       "                                                   text  target  \n",
       "0     Our Deeds are the Reason of this #earthquake M...       1  \n",
       "1                Forest fire near La Ronge Sask. Canada       1  \n",
       "2     All residents asked to 'shelter in place' are ...       1  \n",
       "3     13,000 people receive #wildfires evacuation or...       1  \n",
       "4     Just got sent this photo from Ruby #Alaska as ...       1  \n",
       "...                                                 ...     ...  \n",
       "7608  Two giant cranes holding a bridge collapse int...       1  \n",
       "7609  @aria_ahrary @TheTawniest The out of control w...       1  \n",
       "7610  M1.94 [01:04 UTC]?5km S of Volcano Hawaii. htt...       1  \n",
       "7611  Police investigating after an e-bike collided ...       1  \n",
       "7612  The Latest: More Homes Razed by Northern Calif...       1  \n",
       "\n",
       "[7613 rows x 5 columns]"
      ]
     },
     "execution_count": 9,
     "metadata": {},
     "output_type": "execute_result"
    }
   ],
   "source": [
    "train"
   ]
  },
  {
   "cell_type": "code",
   "execution_count": 10,
   "id": "aaa1a9c0",
   "metadata": {
    "execution": {
     "iopub.execute_input": "2022-07-28T17:43:52.132367Z",
     "iopub.status.busy": "2022-07-28T17:43:52.131260Z",
     "iopub.status.idle": "2022-07-28T17:43:52.142907Z",
     "shell.execute_reply": "2022-07-28T17:43:52.141693Z"
    },
    "papermill": {
     "duration": 0.026787,
     "end_time": "2022-07-28T17:43:52.145302",
     "exception": false,
     "start_time": "2022-07-28T17:43:52.118515",
     "status": "completed"
    },
    "tags": []
   },
   "outputs": [
    {
     "data": {
      "text/plain": [
       "USA                104\n",
       "New York            71\n",
       "United States       50\n",
       "London              45\n",
       "Canada              29\n",
       "Nigeria             28\n",
       "UK                  27\n",
       "Los Angeles, CA     26\n",
       "India               24\n",
       "Mumbai              22\n",
       "Washington, DC      21\n",
       "Kenya               20\n",
       "Worldwide           19\n",
       "Australia           18\n",
       "Chicago, IL         18\n",
       "California          17\n",
       "Everywhere          15\n",
       "New York, NY        15\n",
       "California, USA     15\n",
       "Florida             14\n",
       "Name: location, dtype: int64"
      ]
     },
     "execution_count": 10,
     "metadata": {},
     "output_type": "execute_result"
    }
   ],
   "source": [
    "train['location'].value_counts().head(n=20)"
   ]
  },
  {
   "cell_type": "code",
   "execution_count": 11,
   "id": "b35addb4",
   "metadata": {
    "execution": {
     "iopub.execute_input": "2022-07-28T17:43:52.170435Z",
     "iopub.status.busy": "2022-07-28T17:43:52.169684Z",
     "iopub.status.idle": "2022-07-28T17:43:52.441975Z",
     "shell.execute_reply": "2022-07-28T17:43:52.440888Z"
    },
    "papermill": {
     "duration": 0.287262,
     "end_time": "2022-07-28T17:43:52.444407",
     "exception": false,
     "start_time": "2022-07-28T17:43:52.157145",
     "status": "completed"
    },
    "tags": []
   },
   "outputs": [
    {
     "data": {
      "image/png": "[encoded data removed]",
      "text/plain": [
       "<Figure size 720x504 with 1 Axes>"
      ]
     },
     "metadata": {},
     "output_type": "display_data"
    }
   ],
   "source": [
    "plt.figure(figsize = (10, 7))\n",
    "ax = plt.axes()\n",
    "ax.set_facecolor('#d9ebf7')\n",
    "ax = ((train.location.value_counts())[:10]).plot(kind = 'bar', color = '#8de9b8', linewidth = 2)\n",
    "plt.title('Location Count', fontsize = 14)\n",
    "plt.xlabel('Location', fontsize = 12)\n",
    "plt.ylabel('Count', fontsize = 12)\n",
    "ax.xaxis.set_tick_params(labelsize = 12, rotation = 90)\n",
    "ax.yaxis.set_tick_params(labelsize = 12)"
   ]
  },
  {
   "cell_type": "markdown",
   "id": "c97b042e",
   "metadata": {
    "papermill": {
     "duration": 0.011444,
     "end_time": "2022-07-28T17:43:52.467899",
     "exception": false,
     "start_time": "2022-07-28T17:43:52.456455",
     "status": "completed"
    },
    "tags": []
   },
   "source": [
    "# Text Cleaning"
   ]
  },
  {
   "cell_type": "markdown",
   "id": "e566efc2",
   "metadata": {
    "papermill": {
     "duration": 0.011392,
     "end_time": "2022-07-28T17:43:52.491083",
     "exception": false,
     "start_time": "2022-07-28T17:43:52.479691",
     "status": "completed"
    },
    "tags": []
   },
   "source": [
    "It is a good practice to remove noise from text data for NLP. Some examples of noise can be:\n",
    "* URL \n",
    "* Emoticons\n",
    "* Tags\n",
    "* Punctuation Marks\n",
    "* Stop Words"
   ]
  },
  {
   "cell_type": "code",
   "execution_count": 12,
   "id": "02ac8255",
   "metadata": {
    "execution": {
     "iopub.execute_input": "2022-07-28T17:43:52.516364Z",
     "iopub.status.busy": "2022-07-28T17:43:52.515544Z",
     "iopub.status.idle": "2022-07-28T17:43:52.528242Z",
     "shell.execute_reply": "2022-07-28T17:43:52.527433Z"
    },
    "papermill": {
     "duration": 0.027856,
     "end_time": "2022-07-28T17:43:52.530457",
     "exception": false,
     "start_time": "2022-07-28T17:43:52.502601",
     "status": "completed"
    },
    "tags": []
   },
   "outputs": [],
   "source": [
    "# Some basic helper functions to clean text by removing urls, emojis, html tags, punctuations and Stop Words.\n",
    "\n",
    "def remove_URL(data):\n",
    "    url = re.compile(r'https?://\\S+|www\\.\\S+')\n",
    "    return url.sub(r'', data)\n",
    "\n",
    "\n",
    "def remove_emoji(data):\n",
    "    emoji_pattern = re.compile(\n",
    "        '['\n",
    "        u'\\U0001F600-\\U0001F64F'  # emoticons\n",
    "        u'\\U0001F300-\\U0001F5FF'  # symbols & pictographs\n",
    "        u'\\U0001F680-\\U0001F6FF'  # transport & map symbols\n",
    "        u'\\U0001F1E0-\\U0001F1FF'  # flags (iOS)\n",
    "        u'\\U00002702-\\U000027B0'\n",
    "        u'\\U000024C2-\\U0001F251'\n",
    "        ']+',\n",
    "        flags=re.UNICODE)\n",
    "    return emoji_pattern.sub(r'', data)\n",
    "\n",
    "\n",
    "def remove_html(data):\n",
    "    html = re.compile(r'<.*?>|&([a-z0-9]+|#[0-9]{1,6}|#x[0-9a-f]{1,6});')\n",
    "    return re.sub(html, '', data)\n",
    "\n",
    "\n",
    "def remove_punct(data):\n",
    "    table = str.maketrans('', '', string.punctuation)\n",
    "    return data.translate(table)\n",
    "\n",
    "stop = stopwords.words('english')\n",
    "porter = PorterStemmer()\n",
    "lancaster = LancasterStemmer()"
   ]
  },
  {
   "cell_type": "markdown",
   "id": "c71b1575",
   "metadata": {
    "papermill": {
     "duration": 0.011458,
     "end_time": "2022-07-28T17:43:52.553725",
     "exception": false,
     "start_time": "2022-07-28T17:43:52.542267",
     "status": "completed"
    },
    "tags": []
   },
   "source": [
    "## I will perform stemming with Porter Stemmer and Lancaster Stemmer to see which one is suited for this model's needs."
   ]
  },
  {
   "cell_type": "code",
   "execution_count": 13,
   "id": "0515ad00",
   "metadata": {
    "execution": {
     "iopub.execute_input": "2022-07-28T17:43:52.579385Z",
     "iopub.status.busy": "2022-07-28T17:43:52.578699Z",
     "iopub.status.idle": "2022-07-28T17:43:57.048866Z",
     "shell.execute_reply": "2022-07-28T17:43:57.047737Z"
    },
    "papermill": {
     "duration": 4.486342,
     "end_time": "2022-07-28T17:43:57.051882",
     "exception": false,
     "start_time": "2022-07-28T17:43:52.565540",
     "status": "completed"
    },
    "tags": []
   },
   "outputs": [],
   "source": [
    "# Applying helper functions on Train Dataset\n",
    "\n",
    "train['text_clean'] = train['text'].apply(lambda x: remove_URL(x))\n",
    "train['text_clean'] = train['text_clean'].apply(lambda x: remove_emoji(x))\n",
    "train['text_clean'] = train['text_clean'].apply(lambda x: remove_html(x))\n",
    "train['text_clean'] = train['text_clean'].apply(lambda x: remove_punct(x))\n",
    "train['text_clean'] = train['text_clean'].apply(lambda x: ' '.join([word for word in x.split() if word not in (stop)]))\n",
    "train['text_porter'] = train['text_clean'].apply(lambda x: ' '.join([porter.stem(word) for word in x.split()]))\n",
    "train['text_lancaster'] = train['text_clean'].apply(lambda x: ' '.join([lancaster.stem(word) for word in x.split()]))"
   ]
  },
  {
   "cell_type": "code",
   "execution_count": 14,
   "id": "13c5645c",
   "metadata": {
    "execution": {
     "iopub.execute_input": "2022-07-28T17:43:57.078802Z",
     "iopub.status.busy": "2022-07-28T17:43:57.077903Z",
     "iopub.status.idle": "2022-07-28T17:43:57.097485Z",
     "shell.execute_reply": "2022-07-28T17:43:57.096391Z"
    },
    "papermill": {
     "duration": 0.035622,
     "end_time": "2022-07-28T17:43:57.099730",
     "exception": false,
     "start_time": "2022-07-28T17:43:57.064108",
     "status": "completed"
    },
    "tags": []
   },
   "outputs": [
    {
     "data": {
      "text/html": [
       "<div>\n",
       "<style scoped>\n",
       "    .dataframe tbody tr th:only-of-type {\n",
       "        vertical-align: middle;\n",
       "    }\n",
       "\n",
       "    .dataframe tbody tr th {\n",
       "        vertical-align: top;\n",
       "    }\n",
       "\n",
       "    .dataframe thead th {\n",
       "        text-align: right;\n",
       "    }\n",
       "</style>\n",
       "<table border=\"1\" class=\"dataframe\">\n",
       "  <thead>\n",
       "    <tr style=\"text-align: right;\">\n",
       "      <th></th>\n",
       "      <th>id</th>\n",
       "      <th>keyword</th>\n",
       "      <th>location</th>\n",
       "      <th>text</th>\n",
       "      <th>target</th>\n",
       "      <th>text_clean</th>\n",
       "      <th>text_porter</th>\n",
       "      <th>text_lancaster</th>\n",
       "    </tr>\n",
       "  </thead>\n",
       "  <tbody>\n",
       "    <tr>\n",
       "      <th>0</th>\n",
       "      <td>1</td>\n",
       "      <td>NaN</td>\n",
       "      <td>NaN</td>\n",
       "      <td>Our Deeds are the Reason of this #earthquake M...</td>\n",
       "      <td>1</td>\n",
       "      <td>Our Deeds Reason earthquake May ALLAH Forgive us</td>\n",
       "      <td>our deed reason earthquak may allah forgiv us</td>\n",
       "      <td>our dee reason earthquak may allah forg us</td>\n",
       "    </tr>\n",
       "    <tr>\n",
       "      <th>1</th>\n",
       "      <td>4</td>\n",
       "      <td>NaN</td>\n",
       "      <td>NaN</td>\n",
       "      <td>Forest fire near La Ronge Sask. Canada</td>\n",
       "      <td>1</td>\n",
       "      <td>Forest fire near La Ronge Sask Canada</td>\n",
       "      <td>forest fire near La rong sask canada</td>\n",
       "      <td>forest fir near la rong sask canad</td>\n",
       "    </tr>\n",
       "    <tr>\n",
       "      <th>2</th>\n",
       "      <td>5</td>\n",
       "      <td>NaN</td>\n",
       "      <td>NaN</td>\n",
       "      <td>All residents asked to 'shelter in place' are ...</td>\n",
       "      <td>1</td>\n",
       "      <td>All residents asked shelter place notified off...</td>\n",
       "      <td>all resid ask shelter place notifi offic No ev...</td>\n",
       "      <td>al resid ask shelt plac not off no evacu shelt...</td>\n",
       "    </tr>\n",
       "    <tr>\n",
       "      <th>3</th>\n",
       "      <td>6</td>\n",
       "      <td>NaN</td>\n",
       "      <td>NaN</td>\n",
       "      <td>13,000 people receive #wildfires evacuation or...</td>\n",
       "      <td>1</td>\n",
       "      <td>13000 people receive wildfires evacuation orde...</td>\n",
       "      <td>13000 peopl receiv wildfir evacu order california</td>\n",
       "      <td>13000 peopl receiv wildfir evacu ord californ</td>\n",
       "    </tr>\n",
       "    <tr>\n",
       "      <th>4</th>\n",
       "      <td>7</td>\n",
       "      <td>NaN</td>\n",
       "      <td>NaN</td>\n",
       "      <td>Just got sent this photo from Ruby #Alaska as ...</td>\n",
       "      <td>1</td>\n",
       "      <td>Just got sent photo Ruby Alaska smoke wildfire...</td>\n",
       "      <td>just got sent photo rubi alaska smoke wildfir ...</td>\n",
       "      <td>just got sent photo ruby alask smok wildfir po...</td>\n",
       "    </tr>\n",
       "    <tr>\n",
       "      <th>...</th>\n",
       "      <td>...</td>\n",
       "      <td>...</td>\n",
       "      <td>...</td>\n",
       "      <td>...</td>\n",
       "      <td>...</td>\n",
       "      <td>...</td>\n",
       "      <td>...</td>\n",
       "      <td>...</td>\n",
       "    </tr>\n",
       "    <tr>\n",
       "      <th>7608</th>\n",
       "      <td>10869</td>\n",
       "      <td>NaN</td>\n",
       "      <td>NaN</td>\n",
       "      <td>Two giant cranes holding a bridge collapse int...</td>\n",
       "      <td>1</td>\n",
       "      <td>Two giant cranes holding bridge collapse nearb...</td>\n",
       "      <td>two giant crane hold bridg collaps nearbi home</td>\n",
       "      <td>two giant cran hold bridg collaps nearby hom</td>\n",
       "    </tr>\n",
       "    <tr>\n",
       "      <th>7609</th>\n",
       "      <td>10870</td>\n",
       "      <td>NaN</td>\n",
       "      <td>NaN</td>\n",
       "      <td>@aria_ahrary @TheTawniest The out of control w...</td>\n",
       "      <td>1</td>\n",
       "      <td>ariaahrary TheTawniest The control wild fires ...</td>\n",
       "      <td>ariaahrari thetawniest the control wild fire c...</td>\n",
       "      <td>ariaahr thetawniest the control wild fir calif...</td>\n",
       "    </tr>\n",
       "    <tr>\n",
       "      <th>7610</th>\n",
       "      <td>10871</td>\n",
       "      <td>NaN</td>\n",
       "      <td>NaN</td>\n",
       "      <td>M1.94 [01:04 UTC]?5km S of Volcano Hawaii. htt...</td>\n",
       "      <td>1</td>\n",
       "      <td>M194 0104 UTC5km S Volcano Hawaii</td>\n",
       "      <td>m194 0104 utc5km S volcano hawaii</td>\n",
       "      <td>m194 0104 utc5km s volcano hawai</td>\n",
       "    </tr>\n",
       "    <tr>\n",
       "      <th>7611</th>\n",
       "      <td>10872</td>\n",
       "      <td>NaN</td>\n",
       "      <td>NaN</td>\n",
       "      <td>Police investigating after an e-bike collided ...</td>\n",
       "      <td>1</td>\n",
       "      <td>Police investigating ebike collided car Little...</td>\n",
       "      <td>polic investig ebik collid car littl portug eb...</td>\n",
       "      <td>pol investig ebik collid car littl portug ebik...</td>\n",
       "    </tr>\n",
       "    <tr>\n",
       "      <th>7612</th>\n",
       "      <td>10873</td>\n",
       "      <td>NaN</td>\n",
       "      <td>NaN</td>\n",
       "      <td>The Latest: More Homes Razed by Northern Calif...</td>\n",
       "      <td>1</td>\n",
       "      <td>The Latest More Homes Razed Northern Californi...</td>\n",
       "      <td>the latest more home raze northern california ...</td>\n",
       "      <td>the latest mor hom raz northern californ wildf...</td>\n",
       "    </tr>\n",
       "  </tbody>\n",
       "</table>\n",
       "<p>7613 rows × 8 columns</p>\n",
       "</div>"
      ],
      "text/plain": [
       "         id keyword location  \\\n",
       "0         1     NaN      NaN   \n",
       "1         4     NaN      NaN   \n",
       "2         5     NaN      NaN   \n",
       "3         6     NaN      NaN   \n",
       "4         7     NaN      NaN   \n",
       "...     ...     ...      ...   \n",
       "7608  10869     NaN      NaN   \n",
       "7609  10870     NaN      NaN   \n",
       "7610  10871     NaN      NaN   \n",
       "7611  10872     NaN      NaN   \n",
       "7612  10873     NaN      NaN   \n",
       "\n",
       "                                                   text  target  \\\n",
       "0     Our Deeds are the Reason of this #earthquake M...       1   \n",
       "1                Forest fire near La Ronge Sask. Canada       1   \n",
       "2     All residents asked to 'shelter in place' are ...       1   \n",
       "3     13,000 people receive #wildfires evacuation or...       1   \n",
       "4     Just got sent this photo from Ruby #Alaska as ...       1   \n",
       "...                                                 ...     ...   \n",
       "7608  Two giant cranes holding a bridge collapse int...       1   \n",
       "7609  @aria_ahrary @TheTawniest The out of control w...       1   \n",
       "7610  M1.94 [01:04 UTC]?5km S of Volcano Hawaii. htt...       1   \n",
       "7611  Police investigating after an e-bike collided ...       1   \n",
       "7612  The Latest: More Homes Razed by Northern Calif...       1   \n",
       "\n",
       "                                             text_clean  \\\n",
       "0      Our Deeds Reason earthquake May ALLAH Forgive us   \n",
       "1                 Forest fire near La Ronge Sask Canada   \n",
       "2     All residents asked shelter place notified off...   \n",
       "3     13000 people receive wildfires evacuation orde...   \n",
       "4     Just got sent photo Ruby Alaska smoke wildfire...   \n",
       "...                                                 ...   \n",
       "7608  Two giant cranes holding bridge collapse nearb...   \n",
       "7609  ariaahrary TheTawniest The control wild fires ...   \n",
       "7610                  M194 0104 UTC5km S Volcano Hawaii   \n",
       "7611  Police investigating ebike collided car Little...   \n",
       "7612  The Latest More Homes Razed Northern Californi...   \n",
       "\n",
       "                                            text_porter  \\\n",
       "0         our deed reason earthquak may allah forgiv us   \n",
       "1                  forest fire near La rong sask canada   \n",
       "2     all resid ask shelter place notifi offic No ev...   \n",
       "3     13000 peopl receiv wildfir evacu order california   \n",
       "4     just got sent photo rubi alaska smoke wildfir ...   \n",
       "...                                                 ...   \n",
       "7608     two giant crane hold bridg collaps nearbi home   \n",
       "7609  ariaahrari thetawniest the control wild fire c...   \n",
       "7610                  m194 0104 utc5km S volcano hawaii   \n",
       "7611  polic investig ebik collid car littl portug eb...   \n",
       "7612  the latest more home raze northern california ...   \n",
       "\n",
       "                                         text_lancaster  \n",
       "0            our dee reason earthquak may allah forg us  \n",
       "1                    forest fir near la rong sask canad  \n",
       "2     al resid ask shelt plac not off no evacu shelt...  \n",
       "3         13000 peopl receiv wildfir evacu ord californ  \n",
       "4     just got sent photo ruby alask smok wildfir po...  \n",
       "...                                                 ...  \n",
       "7608       two giant cran hold bridg collaps nearby hom  \n",
       "7609  ariaahr thetawniest the control wild fir calif...  \n",
       "7610                   m194 0104 utc5km s volcano hawai  \n",
       "7611  pol investig ebik collid car littl portug ebik...  \n",
       "7612  the latest mor hom raz northern californ wildf...  \n",
       "\n",
       "[7613 rows x 8 columns]"
      ]
     },
     "execution_count": 14,
     "metadata": {},
     "output_type": "execute_result"
    }
   ],
   "source": [
    "train"
   ]
  },
  {
   "cell_type": "code",
   "execution_count": 15,
   "id": "f6ee8683",
   "metadata": {
    "execution": {
     "iopub.execute_input": "2022-07-28T17:43:57.126501Z",
     "iopub.status.busy": "2022-07-28T17:43:57.125841Z",
     "iopub.status.idle": "2022-07-28T17:43:57.308417Z",
     "shell.execute_reply": "2022-07-28T17:43:57.307261Z"
    },
    "papermill": {
     "duration": 0.198964,
     "end_time": "2022-07-28T17:43:57.311175",
     "exception": false,
     "start_time": "2022-07-28T17:43:57.112211",
     "status": "completed"
    },
    "tags": []
   },
   "outputs": [],
   "source": [
    "test['text_clean'] = test['text'].apply(lambda x: remove_URL(x))\n",
    "test['text_clean'] = test['text_clean'].apply(lambda x: remove_emoji(x))\n",
    "test['text_clean'] = test['text_clean'].apply(lambda x: remove_html(x))\n",
    "test['text_clean'] = test['text_clean'].apply(lambda x: remove_punct(x))\n",
    "test['text_clean'] = test['text_clean'].apply(lambda x: ' '.join([word for word in x.split() if word not in (stop)]))"
   ]
  },
  {
   "cell_type": "code",
   "execution_count": 16,
   "id": "f44a2b89",
   "metadata": {
    "execution": {
     "iopub.execute_input": "2022-07-28T17:43:57.338336Z",
     "iopub.status.busy": "2022-07-28T17:43:57.337324Z",
     "iopub.status.idle": "2022-07-28T17:43:57.351531Z",
     "shell.execute_reply": "2022-07-28T17:43:57.350753Z"
    },
    "papermill": {
     "duration": 0.0302,
     "end_time": "2022-07-28T17:43:57.353842",
     "exception": false,
     "start_time": "2022-07-28T17:43:57.323642",
     "status": "completed"
    },
    "tags": []
   },
   "outputs": [
    {
     "data": {
      "text/html": [
       "<div>\n",
       "<style scoped>\n",
       "    .dataframe tbody tr th:only-of-type {\n",
       "        vertical-align: middle;\n",
       "    }\n",
       "\n",
       "    .dataframe tbody tr th {\n",
       "        vertical-align: top;\n",
       "    }\n",
       "\n",
       "    .dataframe thead th {\n",
       "        text-align: right;\n",
       "    }\n",
       "</style>\n",
       "<table border=\"1\" class=\"dataframe\">\n",
       "  <thead>\n",
       "    <tr style=\"text-align: right;\">\n",
       "      <th></th>\n",
       "      <th>id</th>\n",
       "      <th>keyword</th>\n",
       "      <th>location</th>\n",
       "      <th>text</th>\n",
       "      <th>text_clean</th>\n",
       "    </tr>\n",
       "  </thead>\n",
       "  <tbody>\n",
       "    <tr>\n",
       "      <th>0</th>\n",
       "      <td>0</td>\n",
       "      <td>NaN</td>\n",
       "      <td>NaN</td>\n",
       "      <td>Just happened a terrible car crash</td>\n",
       "      <td>Just happened terrible car crash</td>\n",
       "    </tr>\n",
       "    <tr>\n",
       "      <th>1</th>\n",
       "      <td>2</td>\n",
       "      <td>NaN</td>\n",
       "      <td>NaN</td>\n",
       "      <td>Heard about #earthquake is different cities, s...</td>\n",
       "      <td>Heard earthquake different cities stay safe ev...</td>\n",
       "    </tr>\n",
       "    <tr>\n",
       "      <th>2</th>\n",
       "      <td>3</td>\n",
       "      <td>NaN</td>\n",
       "      <td>NaN</td>\n",
       "      <td>there is a forest fire at spot pond, geese are...</td>\n",
       "      <td>forest fire spot pond geese fleeing across str...</td>\n",
       "    </tr>\n",
       "    <tr>\n",
       "      <th>3</th>\n",
       "      <td>9</td>\n",
       "      <td>NaN</td>\n",
       "      <td>NaN</td>\n",
       "      <td>Apocalypse lighting. #Spokane #wildfires</td>\n",
       "      <td>Apocalypse lighting Spokane wildfires</td>\n",
       "    </tr>\n",
       "    <tr>\n",
       "      <th>4</th>\n",
       "      <td>11</td>\n",
       "      <td>NaN</td>\n",
       "      <td>NaN</td>\n",
       "      <td>Typhoon Soudelor kills 28 in China and Taiwan</td>\n",
       "      <td>Typhoon Soudelor kills 28 China Taiwan</td>\n",
       "    </tr>\n",
       "    <tr>\n",
       "      <th>...</th>\n",
       "      <td>...</td>\n",
       "      <td>...</td>\n",
       "      <td>...</td>\n",
       "      <td>...</td>\n",
       "      <td>...</td>\n",
       "    </tr>\n",
       "    <tr>\n",
       "      <th>3258</th>\n",
       "      <td>10861</td>\n",
       "      <td>NaN</td>\n",
       "      <td>NaN</td>\n",
       "      <td>EARTHQUAKE SAFETY LOS ANGELES ÛÒ SAFETY FASTE...</td>\n",
       "      <td>EARTHQUAKE SAFETY LOS ANGELES ÛÒ SAFETY FASTE...</td>\n",
       "    </tr>\n",
       "    <tr>\n",
       "      <th>3259</th>\n",
       "      <td>10865</td>\n",
       "      <td>NaN</td>\n",
       "      <td>NaN</td>\n",
       "      <td>Storm in RI worse than last hurricane. My city...</td>\n",
       "      <td>Storm RI worse last hurricane My city3others h...</td>\n",
       "    </tr>\n",
       "    <tr>\n",
       "      <th>3260</th>\n",
       "      <td>10868</td>\n",
       "      <td>NaN</td>\n",
       "      <td>NaN</td>\n",
       "      <td>Green Line derailment in Chicago http://t.co/U...</td>\n",
       "      <td>Green Line derailment Chicago</td>\n",
       "    </tr>\n",
       "    <tr>\n",
       "      <th>3261</th>\n",
       "      <td>10874</td>\n",
       "      <td>NaN</td>\n",
       "      <td>NaN</td>\n",
       "      <td>MEG issues Hazardous Weather Outlook (HWO) htt...</td>\n",
       "      <td>MEG issues Hazardous Weather Outlook HWO</td>\n",
       "    </tr>\n",
       "    <tr>\n",
       "      <th>3262</th>\n",
       "      <td>10875</td>\n",
       "      <td>NaN</td>\n",
       "      <td>NaN</td>\n",
       "      <td>#CityofCalgary has activated its Municipal Eme...</td>\n",
       "      <td>CityofCalgary activated Municipal Emergency Pl...</td>\n",
       "    </tr>\n",
       "  </tbody>\n",
       "</table>\n",
       "<p>3263 rows × 5 columns</p>\n",
       "</div>"
      ],
      "text/plain": [
       "         id keyword location  \\\n",
       "0         0     NaN      NaN   \n",
       "1         2     NaN      NaN   \n",
       "2         3     NaN      NaN   \n",
       "3         9     NaN      NaN   \n",
       "4        11     NaN      NaN   \n",
       "...     ...     ...      ...   \n",
       "3258  10861     NaN      NaN   \n",
       "3259  10865     NaN      NaN   \n",
       "3260  10868     NaN      NaN   \n",
       "3261  10874     NaN      NaN   \n",
       "3262  10875     NaN      NaN   \n",
       "\n",
       "                                                   text  \\\n",
       "0                    Just happened a terrible car crash   \n",
       "1     Heard about #earthquake is different cities, s...   \n",
       "2     there is a forest fire at spot pond, geese are...   \n",
       "3              Apocalypse lighting. #Spokane #wildfires   \n",
       "4         Typhoon Soudelor kills 28 in China and Taiwan   \n",
       "...                                                 ...   \n",
       "3258  EARTHQUAKE SAFETY LOS ANGELES ÛÒ SAFETY FASTE...   \n",
       "3259  Storm in RI worse than last hurricane. My city...   \n",
       "3260  Green Line derailment in Chicago http://t.co/U...   \n",
       "3261  MEG issues Hazardous Weather Outlook (HWO) htt...   \n",
       "3262  #CityofCalgary has activated its Municipal Eme...   \n",
       "\n",
       "                                             text_clean  \n",
       "0                      Just happened terrible car crash  \n",
       "1     Heard earthquake different cities stay safe ev...  \n",
       "2     forest fire spot pond geese fleeing across str...  \n",
       "3                 Apocalypse lighting Spokane wildfires  \n",
       "4                Typhoon Soudelor kills 28 China Taiwan  \n",
       "...                                                 ...  \n",
       "3258  EARTHQUAKE SAFETY LOS ANGELES ÛÒ SAFETY FASTE...  \n",
       "3259  Storm RI worse last hurricane My city3others h...  \n",
       "3260                      Green Line derailment Chicago  \n",
       "3261           MEG issues Hazardous Weather Outlook HWO  \n",
       "3262  CityofCalgary activated Municipal Emergency Pl...  \n",
       "\n",
       "[3263 rows x 5 columns]"
      ]
     },
     "execution_count": 16,
     "metadata": {},
     "output_type": "execute_result"
    }
   ],
   "source": [
    "test"
   ]
  },
  {
   "cell_type": "markdown",
   "id": "a2310920",
   "metadata": {
    "papermill": {
     "duration": 0.012377,
     "end_time": "2022-07-28T17:43:57.379451",
     "exception": false,
     "start_time": "2022-07-28T17:43:57.367074",
     "status": "completed"
    },
    "tags": []
   },
   "source": [
    "# Training LSTM Model at first"
   ]
  },
  {
   "cell_type": "code",
   "execution_count": 17,
   "id": "6a15972a",
   "metadata": {
    "execution": {
     "iopub.execute_input": "2022-07-28T17:43:57.406726Z",
     "iopub.status.busy": "2022-07-28T17:43:57.405915Z",
     "iopub.status.idle": "2022-07-28T17:43:57.414730Z",
     "shell.execute_reply": "2022-07-28T17:43:57.413960Z"
    },
    "papermill": {
     "duration": 0.024736,
     "end_time": "2022-07-28T17:43:57.416898",
     "exception": false,
     "start_time": "2022-07-28T17:43:57.392162",
     "status": "completed"
    },
    "tags": []
   },
   "outputs": [],
   "source": [
    "df_train = train.drop(['id','keyword','location','text'],axis=1)\n",
    "df_test = test.drop(['keyword','location','text'],axis=1)"
   ]
  },
  {
   "cell_type": "code",
   "execution_count": 18,
   "id": "30b7cdb0",
   "metadata": {
    "execution": {
     "iopub.execute_input": "2022-07-28T17:43:57.444143Z",
     "iopub.status.busy": "2022-07-28T17:43:57.443413Z",
     "iopub.status.idle": "2022-07-28T17:43:57.697616Z",
     "shell.execute_reply": "2022-07-28T17:43:57.696181Z"
    },
    "papermill": {
     "duration": 0.270512,
     "end_time": "2022-07-28T17:43:57.700184",
     "exception": false,
     "start_time": "2022-07-28T17:43:57.429672",
     "status": "completed"
    },
    "tags": []
   },
   "outputs": [],
   "source": [
    "# Move texts and targets from train & test dataset to the list:\n",
    "training_message = []\n",
    "testing_message = []\n",
    "training_labels = []\n",
    "for i in range(len(df_train)):\n",
    "    training_message.append(df_train.loc[i,'text_clean'])\n",
    "    training_labels.append(df_train.loc[i,'target'])\n",
    "    \n",
    "for i in range(len(df_test)):\n",
    "    testing_message.append(df_test.loc[i,'text_clean'])"
   ]
  },
  {
   "cell_type": "code",
   "execution_count": 19,
   "id": "eeb8a982",
   "metadata": {
    "execution": {
     "iopub.execute_input": "2022-07-28T17:43:57.728176Z",
     "iopub.status.busy": "2022-07-28T17:43:57.727012Z",
     "iopub.status.idle": "2022-07-28T17:43:57.733248Z",
     "shell.execute_reply": "2022-07-28T17:43:57.732081Z"
    },
    "papermill": {
     "duration": 0.022326,
     "end_time": "2022-07-28T17:43:57.735346",
     "exception": false,
     "start_time": "2022-07-28T17:43:57.713020",
     "status": "completed"
    },
    "tags": []
   },
   "outputs": [],
   "source": [
    "vocab_size = 23000\n",
    "embedding_dim = 32\n",
    "max_length = 100\n",
    "trunc_type='post'\n",
    "padding_type='post'\n",
    "oov_tok = \"<OOV>\""
   ]
  },
  {
   "cell_type": "code",
   "execution_count": 20,
   "id": "d18a1088",
   "metadata": {
    "execution": {
     "iopub.execute_input": "2022-07-28T17:43:57.762510Z",
     "iopub.status.busy": "2022-07-28T17:43:57.762127Z",
     "iopub.status.idle": "2022-07-28T17:43:57.936352Z",
     "shell.execute_reply": "2022-07-28T17:43:57.935206Z"
    },
    "papermill": {
     "duration": 0.190763,
     "end_time": "2022-07-28T17:43:57.938885",
     "exception": false,
     "start_time": "2022-07-28T17:43:57.748122",
     "status": "completed"
    },
    "tags": []
   },
   "outputs": [],
   "source": [
    "# Tokenization Process:\n",
    "tokenizer = Tokenizer(num_words = vocab_size, oov_token=oov_tok)\n",
    "tokenizer.fit_on_texts(training_message)\n",
    "word_index = tokenizer.word_index"
   ]
  },
  {
   "cell_type": "code",
   "execution_count": 21,
   "id": "1f0ceaa9",
   "metadata": {
    "execution": {
     "iopub.execute_input": "2022-07-28T17:43:57.966336Z",
     "iopub.status.busy": "2022-07-28T17:43:57.965664Z",
     "iopub.status.idle": "2022-07-28T17:43:58.139510Z",
     "shell.execute_reply": "2022-07-28T17:43:58.138338Z"
    },
    "papermill": {
     "duration": 0.190574,
     "end_time": "2022-07-28T17:43:58.142250",
     "exception": false,
     "start_time": "2022-07-28T17:43:57.951676",
     "status": "completed"
    },
    "tags": []
   },
   "outputs": [],
   "source": [
    "# texts_to_sequences Process:\n",
    "training_message = tokenizer.texts_to_sequences(training_message)\n",
    "testing_message = tokenizer.texts_to_sequences(testing_message)"
   ]
  },
  {
   "cell_type": "code",
   "execution_count": 22,
   "id": "b2762320",
   "metadata": {
    "execution": {
     "iopub.execute_input": "2022-07-28T17:43:58.169522Z",
     "iopub.status.busy": "2022-07-28T17:43:58.169133Z",
     "iopub.status.idle": "2022-07-28T17:43:58.230464Z",
     "shell.execute_reply": "2022-07-28T17:43:58.229308Z"
    },
    "papermill": {
     "duration": 0.078329,
     "end_time": "2022-07-28T17:43:58.233276",
     "exception": false,
     "start_time": "2022-07-28T17:43:58.154947",
     "status": "completed"
    },
    "tags": []
   },
   "outputs": [],
   "source": [
    "#pad_sequences Process:\n",
    "training_padded = pad_sequences(training_message,maxlen=max_length, truncating=trunc_type, padding=padding_type)\n",
    "testing_padded = pad_sequences(testing_message,maxlen=max_length, truncating=trunc_type, padding=padding_type)"
   ]
  },
  {
   "cell_type": "code",
   "execution_count": 23,
   "id": "0631e9b1",
   "metadata": {
    "execution": {
     "iopub.execute_input": "2022-07-28T17:43:58.260810Z",
     "iopub.status.busy": "2022-07-28T17:43:58.260427Z",
     "iopub.status.idle": "2022-07-28T17:43:58.270323Z",
     "shell.execute_reply": "2022-07-28T17:43:58.269089Z"
    },
    "papermill": {
     "duration": 0.026263,
     "end_time": "2022-07-28T17:43:58.272585",
     "exception": false,
     "start_time": "2022-07-28T17:43:58.246322",
     "status": "completed"
    },
    "tags": []
   },
   "outputs": [],
   "source": [
    "training_padded = np.array(training_padded)\n",
    "testing_padded = np.array(testing_padded)\n",
    "training_labels = np.array(training_labels)"
   ]
  },
  {
   "cell_type": "code",
   "execution_count": 24,
   "id": "2bfd7a9b",
   "metadata": {
    "execution": {
     "iopub.execute_input": "2022-07-28T17:43:58.299379Z",
     "iopub.status.busy": "2022-07-28T17:43:58.298987Z",
     "iopub.status.idle": "2022-07-28T17:43:58.926266Z",
     "shell.execute_reply": "2022-07-28T17:43:58.925455Z"
    },
    "papermill": {
     "duration": 0.64339,
     "end_time": "2022-07-28T17:43:58.928673",
     "exception": false,
     "start_time": "2022-07-28T17:43:58.285283",
     "status": "completed"
    },
    "tags": []
   },
   "outputs": [
    {
     "name": "stderr",
     "output_type": "stream",
     "text": [
      "2022-07-28 17:43:58.346709: I tensorflow/core/common_runtime/process_util.cc:146] Creating new thread pool with default inter op setting: 2. Tune using inter_op_parallelism_threads for best performance.\n"
     ]
    },
    {
     "name": "stdout",
     "output_type": "stream",
     "text": [
      "Model: \"sequential\"\n",
      "_________________________________________________________________\n",
      "Layer (type)                 Output Shape              Param #   \n",
      "=================================================================\n",
      "embedding (Embedding)        (None, 100, 32)           736000    \n",
      "_________________________________________________________________\n",
      "bidirectional (Bidirectional (None, 24)                4320      \n",
      "_________________________________________________________________\n",
      "dense (Dense)                (None, 1)                 25        \n",
      "=================================================================\n",
      "Total params: 740,345\n",
      "Trainable params: 740,345\n",
      "Non-trainable params: 0\n",
      "_________________________________________________________________\n"
     ]
    }
   ],
   "source": [
    "model = tf.keras.Sequential([\n",
    "    tf.keras.layers.Embedding(vocab_size, embedding_dim, input_length=max_length),\n",
    "    tf.keras.layers.Bidirectional(tf.keras.layers.LSTM(12)),\n",
    "    tf.keras.layers.Dense(1, activation = 'sigmoid')\n",
    "])\n",
    "\n",
    "model.compile(\n",
    "    loss='binary_crossentropy',\n",
    "    optimizer='Adamax',\n",
    "    metrics=['accuracy', tf.keras.metrics.Precision(), tf.keras.metrics.Recall()]\n",
    ")\n",
    "\n",
    "model.summary()"
   ]
  },
  {
   "cell_type": "code",
   "execution_count": 25,
   "id": "604011ff",
   "metadata": {
    "execution": {
     "iopub.execute_input": "2022-07-28T17:43:58.956625Z",
     "iopub.status.busy": "2022-07-28T17:43:58.956183Z",
     "iopub.status.idle": "2022-07-28T17:49:55.173775Z",
     "shell.execute_reply": "2022-07-28T17:49:55.172546Z"
    },
    "papermill": {
     "duration": 356.235314,
     "end_time": "2022-07-28T17:49:55.176782",
     "exception": false,
     "start_time": "2022-07-28T17:43:58.941468",
     "status": "completed"
    },
    "tags": []
   },
   "outputs": [
    {
     "name": "stdout",
     "output_type": "stream",
     "text": [
      "Epoch 1/50\n"
     ]
    },
    {
     "name": "stderr",
     "output_type": "stream",
     "text": [
      "2022-07-28 17:43:59.009265: I tensorflow/compiler/mlir/mlir_graph_optimization_pass.cc:185] None of the MLIR Optimization Passes are enabled (registered 2)\n"
     ]
    },
    {
     "name": "stdout",
     "output_type": "stream",
     "text": [
      "96/96 [==============================] - 12s 83ms/step - loss: 0.6794 - accuracy: 0.5765 - precision: 0.3836 - recall: 0.0109 - val_loss: 0.6867 - val_accuracy: 0.5345 - val_precision: 0.0000e+00 - val_recall: 0.0000e+00\n",
      "Epoch 2/50\n",
      "96/96 [==============================] - 7s 77ms/step - loss: 0.6510 - accuracy: 0.5892 - precision: 1.0000 - recall: 0.0234 - val_loss: 0.6592 - val_accuracy: 0.5575 - val_precision: 1.0000 - val_recall: 0.0494\n",
      "Epoch 3/50\n",
      "96/96 [==============================] - 7s 72ms/step - loss: 0.5971 - accuracy: 0.6938 - precision: 0.8776 - recall: 0.3162 - val_loss: 0.6158 - val_accuracy: 0.6632 - val_precision: 0.8451 - val_recall: 0.3385\n",
      "Epoch 4/50\n",
      "96/96 [==============================] - 7s 71ms/step - loss: 0.5365 - accuracy: 0.7667 - precision: 0.8414 - recall: 0.5488 - val_loss: 0.5658 - val_accuracy: 0.7420 - val_precision: 0.7883 - val_recall: 0.6093\n",
      "Epoch 5/50\n",
      "96/96 [==============================] - 7s 70ms/step - loss: 0.4791 - accuracy: 0.7941 - precision: 0.8108 - recall: 0.6659 - val_loss: 0.5405 - val_accuracy: 0.7393 - val_precision: 0.8377 - val_recall: 0.5458\n",
      "Epoch 6/50\n",
      "96/96 [==============================] - 7s 74ms/step - loss: 0.4389 - accuracy: 0.8171 - precision: 0.8390 - recall: 0.6995 - val_loss: 0.5240 - val_accuracy: 0.7518 - val_precision: 0.8590 - val_recall: 0.5585\n",
      "Epoch 7/50\n",
      "96/96 [==============================] - 7s 72ms/step - loss: 0.4053 - accuracy: 0.8338 - precision: 0.8454 - recall: 0.7404 - val_loss: 0.4957 - val_accuracy: 0.7689 - val_precision: 0.8349 - val_recall: 0.6276\n",
      "Epoch 8/50\n",
      "96/96 [==============================] - 7s 77ms/step - loss: 0.3795 - accuracy: 0.8479 - precision: 0.8662 - recall: 0.7553 - val_loss: 0.4829 - val_accuracy: 0.7689 - val_precision: 0.7759 - val_recall: 0.7080\n",
      "Epoch 9/50\n",
      "96/96 [==============================] - 7s 73ms/step - loss: 0.3563 - accuracy: 0.8609 - precision: 0.8704 - recall: 0.7865 - val_loss: 0.4836 - val_accuracy: 0.7768 - val_precision: 0.8361 - val_recall: 0.6474\n",
      "Epoch 10/50\n",
      "96/96 [==============================] - 7s 71ms/step - loss: 0.3339 - accuracy: 0.8695 - precision: 0.8797 - recall: 0.7990 - val_loss: 0.4785 - val_accuracy: 0.7794 - val_precision: 0.8033 - val_recall: 0.6968\n",
      "Epoch 11/50\n",
      "96/96 [==============================] - 8s 79ms/step - loss: 0.3140 - accuracy: 0.8806 - precision: 0.8909 - recall: 0.8162 - val_loss: 0.4794 - val_accuracy: 0.7800 - val_precision: 0.8066 - val_recall: 0.6939\n",
      "Epoch 12/50\n",
      "96/96 [==============================] - 7s 72ms/step - loss: 0.2985 - accuracy: 0.8882 - precision: 0.9028 - recall: 0.8228 - val_loss: 0.4927 - val_accuracy: 0.7636 - val_precision: 0.7330 - val_recall: 0.7743\n",
      "Epoch 13/50\n",
      "96/96 [==============================] - 7s 71ms/step - loss: 0.2817 - accuracy: 0.8972 - precision: 0.9147 - recall: 0.8333 - val_loss: 0.4878 - val_accuracy: 0.7689 - val_precision: 0.7561 - val_recall: 0.7433\n",
      "Epoch 14/50\n",
      "96/96 [==============================] - 7s 72ms/step - loss: 0.2642 - accuracy: 0.9054 - precision: 0.9148 - recall: 0.8548 - val_loss: 0.4905 - val_accuracy: 0.7787 - val_precision: 0.7801 - val_recall: 0.7306\n",
      "Epoch 15/50\n",
      "96/96 [==============================] - 7s 72ms/step - loss: 0.2476 - accuracy: 0.9120 - precision: 0.9246 - recall: 0.8610 - val_loss: 0.5045 - val_accuracy: 0.7630 - val_precision: 0.7430 - val_recall: 0.7504\n",
      "Epoch 16/50\n",
      "96/96 [==============================] - 8s 78ms/step - loss: 0.2326 - accuracy: 0.9189 - precision: 0.9298 - recall: 0.8731 - val_loss: 0.5110 - val_accuracy: 0.7735 - val_precision: 0.7826 - val_recall: 0.7109\n",
      "Epoch 17/50\n",
      "96/96 [==============================] - 7s 73ms/step - loss: 0.2182 - accuracy: 0.9236 - precision: 0.9356 - recall: 0.8790 - val_loss: 0.5188 - val_accuracy: 0.7649 - val_precision: 0.7482 - val_recall: 0.7461\n",
      "Epoch 18/50\n",
      "96/96 [==============================] - 7s 72ms/step - loss: 0.2054 - accuracy: 0.9297 - precision: 0.9424 - recall: 0.8872 - val_loss: 0.5312 - val_accuracy: 0.7669 - val_precision: 0.7618 - val_recall: 0.7264\n",
      "Epoch 19/50\n",
      "96/96 [==============================] - 7s 73ms/step - loss: 0.1918 - accuracy: 0.9353 - precision: 0.9468 - recall: 0.8966 - val_loss: 0.5445 - val_accuracy: 0.7649 - val_precision: 0.7764 - val_recall: 0.6953\n",
      "Epoch 20/50\n",
      "96/96 [==============================] - 8s 79ms/step - loss: 0.1803 - accuracy: 0.9397 - precision: 0.9541 - recall: 0.9001 - val_loss: 0.5648 - val_accuracy: 0.7551 - val_precision: 0.7252 - val_recall: 0.7630\n",
      "Epoch 21/50\n",
      "96/96 [==============================] - 7s 73ms/step - loss: 0.1703 - accuracy: 0.9430 - precision: 0.9500 - recall: 0.9126 - val_loss: 0.5557 - val_accuracy: 0.7649 - val_precision: 0.7713 - val_recall: 0.7038\n",
      "Epoch 22/50\n",
      "96/96 [==============================] - 7s 72ms/step - loss: 0.1617 - accuracy: 0.9443 - precision: 0.9572 - recall: 0.9083 - val_loss: 0.5749 - val_accuracy: 0.7511 - val_precision: 0.7279 - val_recall: 0.7433\n",
      "Epoch 23/50\n",
      "96/96 [==============================] - 7s 73ms/step - loss: 0.1517 - accuracy: 0.9502 - precision: 0.9631 - recall: 0.9169 - val_loss: 0.5855 - val_accuracy: 0.7485 - val_precision: 0.7203 - val_recall: 0.7518\n",
      "Epoch 24/50\n",
      "96/96 [==============================] - 7s 71ms/step - loss: 0.1456 - accuracy: 0.9506 - precision: 0.9658 - recall: 0.9149 - val_loss: 0.5927 - val_accuracy: 0.7498 - val_precision: 0.7181 - val_recall: 0.7616\n",
      "Epoch 25/50\n",
      "96/96 [==============================] - 8s 84ms/step - loss: 0.1350 - accuracy: 0.9576 - precision: 0.9683 - recall: 0.9297 - val_loss: 0.5918 - val_accuracy: 0.7617 - val_precision: 0.7590 - val_recall: 0.7151\n",
      "Epoch 26/50\n",
      "96/96 [==============================] - 7s 73ms/step - loss: 0.1289 - accuracy: 0.9598 - precision: 0.9719 - recall: 0.9313 - val_loss: 0.6035 - val_accuracy: 0.7531 - val_precision: 0.7348 - val_recall: 0.7348\n",
      "Epoch 27/50\n",
      "96/96 [==============================] - 7s 71ms/step - loss: 0.1207 - accuracy: 0.9631 - precision: 0.9706 - recall: 0.9407 - val_loss: 0.6116 - val_accuracy: 0.7630 - val_precision: 0.7605 - val_recall: 0.7165\n",
      "Epoch 28/50\n",
      "96/96 [==============================] - 7s 71ms/step - loss: 0.1138 - accuracy: 0.9655 - precision: 0.9761 - recall: 0.9411 - val_loss: 0.6295 - val_accuracy: 0.7538 - val_precision: 0.7359 - val_recall: 0.7348\n",
      "Epoch 29/50\n",
      "96/96 [==============================] - 7s 72ms/step - loss: 0.1094 - accuracy: 0.9670 - precision: 0.9758 - recall: 0.9450 - val_loss: 0.6530 - val_accuracy: 0.7485 - val_precision: 0.7162 - val_recall: 0.7616\n",
      "Epoch 30/50\n",
      "96/96 [==============================] - 8s 78ms/step - loss: 0.1054 - accuracy: 0.9683 - precision: 0.9751 - recall: 0.9489 - val_loss: 0.6570 - val_accuracy: 0.7479 - val_precision: 0.7217 - val_recall: 0.7461\n",
      "Epoch 31/50\n",
      "96/96 [==============================] - 7s 71ms/step - loss: 0.0983 - accuracy: 0.9695 - precision: 0.9775 - recall: 0.9493 - val_loss: 0.6514 - val_accuracy: 0.7577 - val_precision: 0.7485 - val_recall: 0.7221\n",
      "Epoch 32/50\n",
      "96/96 [==============================] - 7s 70ms/step - loss: 0.0939 - accuracy: 0.9714 - precision: 0.9772 - recall: 0.9543 - val_loss: 0.6415 - val_accuracy: 0.7564 - val_precision: 0.7561 - val_recall: 0.7038\n",
      "Epoch 33/50\n",
      "96/96 [==============================] - 7s 70ms/step - loss: 0.0932 - accuracy: 0.9698 - precision: 0.9783 - recall: 0.9493 - val_loss: 0.6652 - val_accuracy: 0.7505 - val_precision: 0.7257 - val_recall: 0.7461\n",
      "Epoch 34/50\n",
      "96/96 [==============================] - 7s 78ms/step - loss: 0.0852 - accuracy: 0.9732 - precision: 0.9823 - recall: 0.9536 - val_loss: 0.7033 - val_accuracy: 0.7492 - val_precision: 0.7218 - val_recall: 0.7504\n",
      "Epoch 35/50\n",
      "96/96 [==============================] - 7s 69ms/step - loss: 0.0819 - accuracy: 0.9741 - precision: 0.9820 - recall: 0.9559 - val_loss: 0.7014 - val_accuracy: 0.7492 - val_precision: 0.7249 - val_recall: 0.7433\n",
      "Epoch 36/50\n",
      "96/96 [==============================] - 7s 74ms/step - loss: 0.0765 - accuracy: 0.9752 - precision: 0.9824 - recall: 0.9582 - val_loss: 0.6950 - val_accuracy: 0.7485 - val_precision: 0.7215 - val_recall: 0.7489\n",
      "Epoch 37/50\n",
      "96/96 [==============================] - 7s 70ms/step - loss: 0.0746 - accuracy: 0.9759 - precision: 0.9855 - recall: 0.9567 - val_loss: 0.7378 - val_accuracy: 0.7459 - val_precision: 0.7176 - val_recall: 0.7489\n",
      "Epoch 38/50\n",
      "96/96 [==============================] - 7s 69ms/step - loss: 0.0712 - accuracy: 0.9778 - precision: 0.9840 - recall: 0.9629 - val_loss: 0.7305 - val_accuracy: 0.7472 - val_precision: 0.7172 - val_recall: 0.7546\n",
      "Epoch 39/50\n",
      "96/96 [==============================] - 7s 72ms/step - loss: 0.0705 - accuracy: 0.9760 - precision: 0.9817 - recall: 0.9610 - val_loss: 0.7648 - val_accuracy: 0.7433 - val_precision: 0.7098 - val_recall: 0.7588\n",
      "Epoch 40/50\n",
      "96/96 [==============================] - 8s 79ms/step - loss: 0.0665 - accuracy: 0.9790 - precision: 0.9849 - recall: 0.9649 - val_loss: 0.7544 - val_accuracy: 0.7590 - val_precision: 0.7522 - val_recall: 0.7193\n",
      "Epoch 41/50\n",
      "96/96 [==============================] - 7s 71ms/step - loss: 0.0637 - accuracy: 0.9788 - precision: 0.9845 - recall: 0.9649 - val_loss: 0.7760 - val_accuracy: 0.7531 - val_precision: 0.7368 - val_recall: 0.7306\n",
      "Epoch 42/50\n",
      "96/96 [==============================] - 7s 71ms/step - loss: 0.0622 - accuracy: 0.9788 - precision: 0.9849 - recall: 0.9645 - val_loss: 0.7916 - val_accuracy: 0.7557 - val_precision: 0.7431 - val_recall: 0.7264\n",
      "Epoch 43/50\n",
      "96/96 [==============================] - 7s 71ms/step - loss: 0.0614 - accuracy: 0.9793 - precision: 0.9849 - recall: 0.9657 - val_loss: 0.7748 - val_accuracy: 0.7577 - val_precision: 0.7493 - val_recall: 0.7207\n",
      "Epoch 44/50\n",
      "96/96 [==============================] - 7s 77ms/step - loss: 0.0580 - accuracy: 0.9791 - precision: 0.9845 - recall: 0.9657 - val_loss: 0.8003 - val_accuracy: 0.7347 - val_precision: 0.7009 - val_recall: 0.7504\n",
      "Epoch 45/50\n",
      "96/96 [==============================] - 7s 70ms/step - loss: 0.0574 - accuracy: 0.9808 - precision: 0.9857 - recall: 0.9684 - val_loss: 0.7859 - val_accuracy: 0.7590 - val_precision: 0.7507 - val_recall: 0.7221\n",
      "Epoch 46/50\n",
      "96/96 [==============================] - 7s 70ms/step - loss: 0.0536 - accuracy: 0.9819 - precision: 0.9846 - recall: 0.9723 - val_loss: 0.8003 - val_accuracy: 0.7485 - val_precision: 0.7296 - val_recall: 0.7306\n",
      "Epoch 47/50\n",
      "96/96 [==============================] - 7s 71ms/step - loss: 0.0541 - accuracy: 0.9813 - precision: 0.9857 - recall: 0.9696 - val_loss: 0.8396 - val_accuracy: 0.7347 - val_precision: 0.6988 - val_recall: 0.7560\n",
      "Epoch 48/50\n",
      "96/96 [==============================] - 7s 70ms/step - loss: 0.0507 - accuracy: 0.9831 - precision: 0.9889 - recall: 0.9707 - val_loss: 0.8375 - val_accuracy: 0.7406 - val_precision: 0.7127 - val_recall: 0.7419\n",
      "Epoch 49/50\n",
      "96/96 [==============================] - 7s 76ms/step - loss: 0.0502 - accuracy: 0.9828 - precision: 0.9869 - recall: 0.9719 - val_loss: 0.8422 - val_accuracy: 0.7590 - val_precision: 0.7522 - val_recall: 0.7193\n",
      "Epoch 50/50\n",
      "96/96 [==============================] - 7s 72ms/step - loss: 0.0475 - accuracy: 0.9836 - precision: 0.9873 - recall: 0.9735 - val_loss: 0.8696 - val_accuracy: 0.7426 - val_precision: 0.7151 - val_recall: 0.7433\n"
     ]
    }
   ],
   "source": [
    "history = model.fit(\n",
    "    training_padded, \n",
    "    training_labels, \n",
    "    epochs = 50, \n",
    "    batch_size = 64,  \n",
    "    validation_split=0.2\n",
    ")"
   ]
  },
  {
   "cell_type": "code",
   "execution_count": 26,
   "id": "1f8c3565",
   "metadata": {
    "execution": {
     "iopub.execute_input": "2022-07-28T17:49:55.982966Z",
     "iopub.status.busy": "2022-07-28T17:49:55.982561Z",
     "iopub.status.idle": "2022-07-28T17:49:56.190503Z",
     "shell.execute_reply": "2022-07-28T17:49:56.189315Z"
    },
    "papermill": {
     "duration": 0.644486,
     "end_time": "2022-07-28T17:49:56.193104",
     "exception": false,
     "start_time": "2022-07-28T17:49:55.548618",
     "status": "completed"
    },
    "tags": []
   },
   "outputs": [
    {
     "data": {
      "image/png": "[encoded data removed]",
      "text/plain": [
       "<Figure size 432x288 with 1 Axes>"
      ]
     },
     "metadata": {},
     "output_type": "display_data"
    }
   ],
   "source": [
    "plt.plot(history.history[\"accuracy\"], color=\"r\")\n",
    "plt.plot(history.history[\"val_accuracy\"], color=\"g\")\n",
    "plt.legend([\"Training\", \"Validation\"])\n",
    "plt.xlabel(\"epochs\")\n",
    "plt.ylabel(\"accuracy\")\n",
    "plt.show()"
   ]
  },
  {
   "cell_type": "code",
   "execution_count": 27,
   "id": "e6a983f0",
   "metadata": {
    "execution": {
     "iopub.execute_input": "2022-07-28T17:49:56.906647Z",
     "iopub.status.busy": "2022-07-28T17:49:56.906271Z",
     "iopub.status.idle": "2022-07-28T17:49:58.355715Z",
     "shell.execute_reply": "2022-07-28T17:49:58.354850Z"
    },
    "papermill": {
     "duration": 1.809796,
     "end_time": "2022-07-28T17:49:58.358380",
     "exception": false,
     "start_time": "2022-07-28T17:49:56.548584",
     "status": "completed"
    },
    "tags": []
   },
   "outputs": [],
   "source": [
    "test_predict = model.predict(testing_padded).round().astype(int)"
   ]
  },
  {
   "cell_type": "markdown",
   "id": "d996f136",
   "metadata": {
    "papermill": {
     "duration": 0.356856,
     "end_time": "2022-07-28T17:49:59.071977",
     "exception": false,
     "start_time": "2022-07-28T17:49:58.715121",
     "status": "completed"
    },
    "tags": []
   },
   "source": [
    "# Submission"
   ]
  },
  {
   "cell_type": "code",
   "execution_count": 28,
   "id": "c555b42c",
   "metadata": {
    "execution": {
     "iopub.execute_input": "2022-07-28T17:49:59.850038Z",
     "iopub.status.busy": "2022-07-28T17:49:59.849322Z",
     "iopub.status.idle": "2022-07-28T17:49:59.863116Z",
     "shell.execute_reply": "2022-07-28T17:49:59.862183Z"
    },
    "papermill": {
     "duration": 0.433914,
     "end_time": "2022-07-28T17:49:59.865417",
     "exception": false,
     "start_time": "2022-07-28T17:49:59.431503",
     "status": "completed"
    },
    "tags": []
   },
   "outputs": [],
   "source": [
    "submission = pd.DataFrame({'id':df_test['id'],'target':test_predict.ravel()})\n",
    "submission.to_csv('submission.csv',index=False)"
   ]
  },
  {
   "cell_type": "markdown",
   "id": "c6acef21",
   "metadata": {
    "papermill": {
     "duration": 0.358614,
     "end_time": "2022-07-28T17:50:00.582814",
     "exception": false,
     "start_time": "2022-07-28T17:50:00.224200",
     "status": "completed"
    },
    "tags": []
   },
   "source": [
    "# I willl further use BERT and GloVe and compare them to the output of the LSTM. I do realize that the LSTM requires more tuning and am open to suggestions.\n",
    "\n",
    "## I also have to perform the following:\n",
    "* Remove Stopwords\n",
    "* Stemming\n",
    "* Lemmatisation\n",
    "* TF-IDF (Feature Engineering)"
   ]
  }
 ],
 "metadata": {
  "kernelspec": {
   "display_name": "Python 3",
   "language": "python",
   "name": "python3"
  },
  "language_info": {
   "codemirror_mode": {
    "name": "ipython",
    "version": 3
   },
   "file_extension": ".py",
   "mimetype": "text/x-python",
   "name": "python",
   "nbconvert_exporter": "python",
   "pygments_lexer": "ipython3",
   "version": "3.7.12"
  },
  "papermill": {
   "default_parameters": {},
   "duration": 406.854315,
   "end_time": "2022-07-28T17:50:04.521788",
   "environment_variables": {},
   "exception": null,
   "input_path": "__notebook__.ipynb",
   "output_path": "__notebook__.ipynb",
   "parameters": {},
   "start_time": "2022-07-28T17:43:17.667473",
   "version": "2.3.4"
  }
 },
 "nbformat": 4,
 "nbformat_minor": 5
}
