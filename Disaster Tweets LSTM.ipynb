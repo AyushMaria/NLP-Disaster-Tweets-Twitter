{
 "cells": [
  {
   "cell_type": "markdown",
   "id": "1602b2ab",
   "metadata": {
    "papermill": {
     "duration": 0.01015,
     "end_time": "2022-07-27T18:30:05.417318",
     "exception": false,
     "start_time": "2022-07-27T18:30:05.407168",
     "status": "completed"
    },
    "tags": []
   },
   "source": [
    "# This Notebook is my first attempt at understanding NLP and expand my knowledge. \n",
    "## Please feel free to comment for any doubts or improvement advice."
   ]
  },
  {
   "cell_type": "code",
   "execution_count": 1,
   "id": "babea8b2",
   "metadata": {
    "_cell_guid": "b1076dfc-b9ad-4769-8c92-a6c4dae69d19",
    "_uuid": "8f2839f25d086af736a60e9eeb907d3b93b6e0e5",
    "execution": {
     "iopub.execute_input": "2022-07-27T18:30:05.438680Z",
     "iopub.status.busy": "2022-07-27T18:30:05.437463Z",
     "iopub.status.idle": "2022-07-27T18:30:20.206359Z",
     "shell.execute_reply": "2022-07-27T18:30:20.205259Z"
    },
    "papermill": {
     "duration": 14.782758,
     "end_time": "2022-07-27T18:30:20.209380",
     "exception": false,
     "start_time": "2022-07-27T18:30:05.426622",
     "status": "completed"
    },
    "tags": []
   },
   "outputs": [],
   "source": [
    "import numpy as np\n",
    "import pandas as pd\n",
    "pd.set_option('display.max_columns', 50)\n",
    "pd.set_option('display.max_rows', 150)\n",
    "import matplotlib.pyplot as plt\n",
    "%matplotlib inline\n",
    "import seaborn as sns\n",
    "import warnings\n",
    "warnings.filterwarnings(\"ignore\")\n",
    "\n",
    "# Core packages for text processing.\n",
    "\n",
    "import string\n",
    "import re\n",
    "\n",
    "# Core packages for Training.\n",
    "\n",
    "import tensorflow as tf\n",
    "from tensorflow.keras.preprocessing.text import Tokenizer\n",
    "from tensorflow.keras.preprocessing.sequence import pad_sequences\n",
    "\n",
    "\n",
    "from datasets import load_dataset, load_metric\n",
    "from transformers import AutoTokenizer\n",
    "from transformers import AutoModelForSequenceClassification, TrainingArguments, Trainer "
   ]
  },
  {
   "cell_type": "code",
   "execution_count": 2,
   "id": "00faa39f",
   "metadata": {
    "execution": {
     "iopub.execute_input": "2022-07-27T18:30:20.228491Z",
     "iopub.status.busy": "2022-07-27T18:30:20.227749Z",
     "iopub.status.idle": "2022-07-27T18:30:20.309931Z",
     "shell.execute_reply": "2022-07-27T18:30:20.309031Z"
    },
    "papermill": {
     "duration": 0.094536,
     "end_time": "2022-07-27T18:30:20.312513",
     "exception": false,
     "start_time": "2022-07-27T18:30:20.217977",
     "status": "completed"
    },
    "tags": []
   },
   "outputs": [],
   "source": [
    "train = pd.read_csv(\"../input/nlp-getting-started/train.csv\")\n",
    "test = pd.read_csv(\"../input/nlp-getting-started/test.csv\")"
   ]
  },
  {
   "cell_type": "code",
   "execution_count": 3,
   "id": "d9320e34",
   "metadata": {
    "execution": {
     "iopub.execute_input": "2022-07-27T18:30:20.331917Z",
     "iopub.status.busy": "2022-07-27T18:30:20.331281Z",
     "iopub.status.idle": "2022-07-27T18:30:20.362908Z",
     "shell.execute_reply": "2022-07-27T18:30:20.361661Z"
    },
    "papermill": {
     "duration": 0.044798,
     "end_time": "2022-07-27T18:30:20.366076",
     "exception": false,
     "start_time": "2022-07-27T18:30:20.321278",
     "status": "completed"
    },
    "tags": []
   },
   "outputs": [
    {
     "name": "stdout",
     "output_type": "stream",
     "text": [
      "<class 'pandas.core.frame.DataFrame'>\n",
      "RangeIndex: 7613 entries, 0 to 7612\n",
      "Data columns (total 5 columns):\n",
      " #   Column    Non-Null Count  Dtype \n",
      "---  ------    --------------  ----- \n",
      " 0   id        7613 non-null   int64 \n",
      " 1   keyword   7552 non-null   object\n",
      " 2   location  5080 non-null   object\n",
      " 3   text      7613 non-null   object\n",
      " 4   target    7613 non-null   int64 \n",
      "dtypes: int64(2), object(3)\n",
      "memory usage: 297.5+ KB\n",
      "None\n"
     ]
    }
   ],
   "source": [
    "print(train.info())"
   ]
  },
  {
   "cell_type": "code",
   "execution_count": 4,
   "id": "16f62af1",
   "metadata": {
    "execution": {
     "iopub.execute_input": "2022-07-27T18:30:20.386234Z",
     "iopub.status.busy": "2022-07-27T18:30:20.385500Z",
     "iopub.status.idle": "2022-07-27T18:30:20.390947Z",
     "shell.execute_reply": "2022-07-27T18:30:20.389537Z"
    },
    "papermill": {
     "duration": 0.018357,
     "end_time": "2022-07-27T18:30:20.393770",
     "exception": false,
     "start_time": "2022-07-27T18:30:20.375413",
     "status": "completed"
    },
    "tags": []
   },
   "outputs": [
    {
     "name": "stdout",
     "output_type": "stream",
     "text": [
      "(7613, 5)\n"
     ]
    }
   ],
   "source": [
    "print(train.shape)"
   ]
  },
  {
   "cell_type": "code",
   "execution_count": 5,
   "id": "41217c51",
   "metadata": {
    "execution": {
     "iopub.execute_input": "2022-07-27T18:30:20.415069Z",
     "iopub.status.busy": "2022-07-27T18:30:20.414257Z",
     "iopub.status.idle": "2022-07-27T18:30:20.433307Z",
     "shell.execute_reply": "2022-07-27T18:30:20.432106Z"
    },
    "papermill": {
     "duration": 0.0325,
     "end_time": "2022-07-27T18:30:20.436148",
     "exception": false,
     "start_time": "2022-07-27T18:30:20.403648",
     "status": "completed"
    },
    "tags": []
   },
   "outputs": [
    {
     "data": {
      "text/html": [
       "<div>\n",
       "<style scoped>\n",
       "    .dataframe tbody tr th:only-of-type {\n",
       "        vertical-align: middle;\n",
       "    }\n",
       "\n",
       "    .dataframe tbody tr th {\n",
       "        vertical-align: top;\n",
       "    }\n",
       "\n",
       "    .dataframe thead th {\n",
       "        text-align: right;\n",
       "    }\n",
       "</style>\n",
       "<table border=\"1\" class=\"dataframe\">\n",
       "  <thead>\n",
       "    <tr style=\"text-align: right;\">\n",
       "      <th></th>\n",
       "      <th>id</th>\n",
       "      <th>keyword</th>\n",
       "      <th>location</th>\n",
       "      <th>text</th>\n",
       "      <th>target</th>\n",
       "    </tr>\n",
       "  </thead>\n",
       "  <tbody>\n",
       "    <tr>\n",
       "      <th>0</th>\n",
       "      <td>1</td>\n",
       "      <td>NaN</td>\n",
       "      <td>NaN</td>\n",
       "      <td>Our Deeds are the Reason of this #earthquake M...</td>\n",
       "      <td>1</td>\n",
       "    </tr>\n",
       "    <tr>\n",
       "      <th>1</th>\n",
       "      <td>4</td>\n",
       "      <td>NaN</td>\n",
       "      <td>NaN</td>\n",
       "      <td>Forest fire near La Ronge Sask. Canada</td>\n",
       "      <td>1</td>\n",
       "    </tr>\n",
       "    <tr>\n",
       "      <th>2</th>\n",
       "      <td>5</td>\n",
       "      <td>NaN</td>\n",
       "      <td>NaN</td>\n",
       "      <td>All residents asked to 'shelter in place' are ...</td>\n",
       "      <td>1</td>\n",
       "    </tr>\n",
       "    <tr>\n",
       "      <th>3</th>\n",
       "      <td>6</td>\n",
       "      <td>NaN</td>\n",
       "      <td>NaN</td>\n",
       "      <td>13,000 people receive #wildfires evacuation or...</td>\n",
       "      <td>1</td>\n",
       "    </tr>\n",
       "    <tr>\n",
       "      <th>4</th>\n",
       "      <td>7</td>\n",
       "      <td>NaN</td>\n",
       "      <td>NaN</td>\n",
       "      <td>Just got sent this photo from Ruby #Alaska as ...</td>\n",
       "      <td>1</td>\n",
       "    </tr>\n",
       "  </tbody>\n",
       "</table>\n",
       "</div>"
      ],
      "text/plain": [
       "   id keyword location                                               text  \\\n",
       "0   1     NaN      NaN  Our Deeds are the Reason of this #earthquake M...   \n",
       "1   4     NaN      NaN             Forest fire near La Ronge Sask. Canada   \n",
       "2   5     NaN      NaN  All residents asked to 'shelter in place' are ...   \n",
       "3   6     NaN      NaN  13,000 people receive #wildfires evacuation or...   \n",
       "4   7     NaN      NaN  Just got sent this photo from Ruby #Alaska as ...   \n",
       "\n",
       "   target  \n",
       "0       1  \n",
       "1       1  \n",
       "2       1  \n",
       "3       1  \n",
       "4       1  "
      ]
     },
     "execution_count": 5,
     "metadata": {},
     "output_type": "execute_result"
    }
   ],
   "source": [
    "train.head()"
   ]
  },
  {
   "cell_type": "markdown",
   "id": "afde807a",
   "metadata": {
    "papermill": {
     "duration": 0.009649,
     "end_time": "2022-07-27T18:30:20.454811",
     "exception": false,
     "start_time": "2022-07-27T18:30:20.445162",
     "status": "completed"
    },
    "tags": []
   },
   "source": [
    "# In order to proceed further I will perform some EDA to understand the data."
   ]
  },
  {
   "cell_type": "code",
   "execution_count": 6,
   "id": "8de313f2",
   "metadata": {
    "execution": {
     "iopub.execute_input": "2022-07-27T18:30:20.475129Z",
     "iopub.status.busy": "2022-07-27T18:30:20.474719Z",
     "iopub.status.idle": "2022-07-27T18:30:20.689303Z",
     "shell.execute_reply": "2022-07-27T18:30:20.688142Z"
    },
    "papermill": {
     "duration": 0.228853,
     "end_time": "2022-07-27T18:30:20.692601",
     "exception": false,
     "start_time": "2022-07-27T18:30:20.463748",
     "status": "completed"
    },
    "tags": []
   },
   "outputs": [
    {
     "data": {
      "text/plain": [
       "<AxesSubplot:xlabel='target', ylabel='count'>"
      ]
     },
     "execution_count": 6,
     "metadata": {},
     "output_type": "execute_result"
    },
    {
     "data": {
      "image/png": "[encoded data removed]",
      "text/plain": [
       "<Figure size 432x288 with 1 Axes>"
      ]
     },
     "metadata": {},
     "output_type": "display_data"
    }
   ],
   "source": [
    "sns.set_style('darkgrid')\n",
    "sns.countplot(x=train['target'],palette='GnBu')"
   ]
  },
  {
   "cell_type": "markdown",
   "id": "9247dd13",
   "metadata": {
    "papermill": {
     "duration": 0.009163,
     "end_time": "2022-07-27T18:30:20.711221",
     "exception": false,
     "start_time": "2022-07-27T18:30:20.702058",
     "status": "completed"
    },
    "tags": []
   },
   "source": [
    "The following is the meaning of the target labels:\n",
    "* 0: Non Disaster\n",
    "* 1: Disaster"
   ]
  },
  {
   "cell_type": "code",
   "execution_count": 7,
   "id": "c97de389",
   "metadata": {
    "execution": {
     "iopub.execute_input": "2022-07-27T18:30:20.734227Z",
     "iopub.status.busy": "2022-07-27T18:30:20.733145Z",
     "iopub.status.idle": "2022-07-27T18:30:21.403649Z",
     "shell.execute_reply": "2022-07-27T18:30:21.402486Z"
    },
    "papermill": {
     "duration": 0.684079,
     "end_time": "2022-07-27T18:30:21.405998",
     "exception": false,
     "start_time": "2022-07-27T18:30:20.721919",
     "status": "completed"
    },
    "tags": []
   },
   "outputs": [
    {
     "data": {
      "image/png": "[encoded data removed]",
      "text/plain": [
       "<Figure size 720x360 with 2 Axes>"
      ]
     },
     "metadata": {},
     "output_type": "display_data"
    }
   ],
   "source": [
    "fig,ax=plt.subplots(1,2,figsize=(10,5))\n",
    "disaster_tweet=train[train['target']==1]['text'].str.len()\n",
    "ax[0].hist(disaster_tweet,color='#3b6df4')\n",
    "ax[0].set_title('disaster tweets')\n",
    "notdisaster_tweet=train[train['target']==0]['text'].str.len()\n",
    "ax[1].hist(notdisaster_tweet,color='#8de9b8')\n",
    "ax[1].set_title('Not disaster tweets')\n",
    "fig.suptitle('Characters in tweets')\n",
    "plt.show()"
   ]
  },
  {
   "cell_type": "code",
   "execution_count": 8,
   "id": "b564fdef",
   "metadata": {
    "execution": {
     "iopub.execute_input": "2022-07-27T18:30:21.429373Z",
     "iopub.status.busy": "2022-07-27T18:30:21.428229Z",
     "iopub.status.idle": "2022-07-27T18:30:21.446898Z",
     "shell.execute_reply": "2022-07-27T18:30:21.446093Z"
    },
    "papermill": {
     "duration": 0.033102,
     "end_time": "2022-07-27T18:30:21.449459",
     "exception": false,
     "start_time": "2022-07-27T18:30:21.416357",
     "status": "completed"
    },
    "tags": []
   },
   "outputs": [
    {
     "data": {
      "text/html": [
       "<div>\n",
       "<style scoped>\n",
       "    .dataframe tbody tr th:only-of-type {\n",
       "        vertical-align: middle;\n",
       "    }\n",
       "\n",
       "    .dataframe tbody tr th {\n",
       "        vertical-align: top;\n",
       "    }\n",
       "\n",
       "    .dataframe thead th {\n",
       "        text-align: right;\n",
       "    }\n",
       "</style>\n",
       "<table border=\"1\" class=\"dataframe\">\n",
       "  <thead>\n",
       "    <tr style=\"text-align: right;\">\n",
       "      <th></th>\n",
       "      <th>id</th>\n",
       "      <th>keyword</th>\n",
       "      <th>location</th>\n",
       "      <th>text</th>\n",
       "      <th>target</th>\n",
       "    </tr>\n",
       "  </thead>\n",
       "  <tbody>\n",
       "    <tr>\n",
       "      <th>0</th>\n",
       "      <td>1</td>\n",
       "      <td>NaN</td>\n",
       "      <td>NaN</td>\n",
       "      <td>Our Deeds are the Reason of this #earthquake M...</td>\n",
       "      <td>1</td>\n",
       "    </tr>\n",
       "    <tr>\n",
       "      <th>1</th>\n",
       "      <td>4</td>\n",
       "      <td>NaN</td>\n",
       "      <td>NaN</td>\n",
       "      <td>Forest fire near La Ronge Sask. Canada</td>\n",
       "      <td>1</td>\n",
       "    </tr>\n",
       "    <tr>\n",
       "      <th>2</th>\n",
       "      <td>5</td>\n",
       "      <td>NaN</td>\n",
       "      <td>NaN</td>\n",
       "      <td>All residents asked to 'shelter in place' are ...</td>\n",
       "      <td>1</td>\n",
       "    </tr>\n",
       "    <tr>\n",
       "      <th>3</th>\n",
       "      <td>6</td>\n",
       "      <td>NaN</td>\n",
       "      <td>NaN</td>\n",
       "      <td>13,000 people receive #wildfires evacuation or...</td>\n",
       "      <td>1</td>\n",
       "    </tr>\n",
       "    <tr>\n",
       "      <th>4</th>\n",
       "      <td>7</td>\n",
       "      <td>NaN</td>\n",
       "      <td>NaN</td>\n",
       "      <td>Just got sent this photo from Ruby #Alaska as ...</td>\n",
       "      <td>1</td>\n",
       "    </tr>\n",
       "    <tr>\n",
       "      <th>...</th>\n",
       "      <td>...</td>\n",
       "      <td>...</td>\n",
       "      <td>...</td>\n",
       "      <td>...</td>\n",
       "      <td>...</td>\n",
       "    </tr>\n",
       "    <tr>\n",
       "      <th>7608</th>\n",
       "      <td>10869</td>\n",
       "      <td>NaN</td>\n",
       "      <td>NaN</td>\n",
       "      <td>Two giant cranes holding a bridge collapse int...</td>\n",
       "      <td>1</td>\n",
       "    </tr>\n",
       "    <tr>\n",
       "      <th>7609</th>\n",
       "      <td>10870</td>\n",
       "      <td>NaN</td>\n",
       "      <td>NaN</td>\n",
       "      <td>@aria_ahrary @TheTawniest The out of control w...</td>\n",
       "      <td>1</td>\n",
       "    </tr>\n",
       "    <tr>\n",
       "      <th>7610</th>\n",
       "      <td>10871</td>\n",
       "      <td>NaN</td>\n",
       "      <td>NaN</td>\n",
       "      <td>M1.94 [01:04 UTC]?5km S of Volcano Hawaii. htt...</td>\n",
       "      <td>1</td>\n",
       "    </tr>\n",
       "    <tr>\n",
       "      <th>7611</th>\n",
       "      <td>10872</td>\n",
       "      <td>NaN</td>\n",
       "      <td>NaN</td>\n",
       "      <td>Police investigating after an e-bike collided ...</td>\n",
       "      <td>1</td>\n",
       "    </tr>\n",
       "    <tr>\n",
       "      <th>7612</th>\n",
       "      <td>10873</td>\n",
       "      <td>NaN</td>\n",
       "      <td>NaN</td>\n",
       "      <td>The Latest: More Homes Razed by Northern Calif...</td>\n",
       "      <td>1</td>\n",
       "    </tr>\n",
       "  </tbody>\n",
       "</table>\n",
       "<p>7613 rows × 5 columns</p>\n",
       "</div>"
      ],
      "text/plain": [
       "         id keyword location  \\\n",
       "0         1     NaN      NaN   \n",
       "1         4     NaN      NaN   \n",
       "2         5     NaN      NaN   \n",
       "3         6     NaN      NaN   \n",
       "4         7     NaN      NaN   \n",
       "...     ...     ...      ...   \n",
       "7608  10869     NaN      NaN   \n",
       "7609  10870     NaN      NaN   \n",
       "7610  10871     NaN      NaN   \n",
       "7611  10872     NaN      NaN   \n",
       "7612  10873     NaN      NaN   \n",
       "\n",
       "                                                   text  target  \n",
       "0     Our Deeds are the Reason of this #earthquake M...       1  \n",
       "1                Forest fire near La Ronge Sask. Canada       1  \n",
       "2     All residents asked to 'shelter in place' are ...       1  \n",
       "3     13,000 people receive #wildfires evacuation or...       1  \n",
       "4     Just got sent this photo from Ruby #Alaska as ...       1  \n",
       "...                                                 ...     ...  \n",
       "7608  Two giant cranes holding a bridge collapse int...       1  \n",
       "7609  @aria_ahrary @TheTawniest The out of control w...       1  \n",
       "7610  M1.94 [01:04 UTC]?5km S of Volcano Hawaii. htt...       1  \n",
       "7611  Police investigating after an e-bike collided ...       1  \n",
       "7612  The Latest: More Homes Razed by Northern Calif...       1  \n",
       "\n",
       "[7613 rows x 5 columns]"
      ]
     },
     "execution_count": 8,
     "metadata": {},
     "output_type": "execute_result"
    }
   ],
   "source": [
    "train"
   ]
  },
  {
   "cell_type": "code",
   "execution_count": 9,
   "id": "90217f6e",
   "metadata": {
    "execution": {
     "iopub.execute_input": "2022-07-27T18:30:21.471971Z",
     "iopub.status.busy": "2022-07-27T18:30:21.471161Z",
     "iopub.status.idle": "2022-07-27T18:30:21.483207Z",
     "shell.execute_reply": "2022-07-27T18:30:21.481971Z"
    },
    "papermill": {
     "duration": 0.026617,
     "end_time": "2022-07-27T18:30:21.486259",
     "exception": false,
     "start_time": "2022-07-27T18:30:21.459642",
     "status": "completed"
    },
    "tags": []
   },
   "outputs": [
    {
     "data": {
      "text/plain": [
       "USA                104\n",
       "New York            71\n",
       "United States       50\n",
       "London              45\n",
       "Canada              29\n",
       "Nigeria             28\n",
       "UK                  27\n",
       "Los Angeles, CA     26\n",
       "India               24\n",
       "Mumbai              22\n",
       "Washington, DC      21\n",
       "Kenya               20\n",
       "Worldwide           19\n",
       "Australia           18\n",
       "Chicago, IL         18\n",
       "California          17\n",
       "Everywhere          15\n",
       "New York, NY        15\n",
       "California, USA     15\n",
       "Florida             14\n",
       "Name: location, dtype: int64"
      ]
     },
     "execution_count": 9,
     "metadata": {},
     "output_type": "execute_result"
    }
   ],
   "source": [
    "train['location'].value_counts().head(n=20)"
   ]
  },
  {
   "cell_type": "code",
   "execution_count": 10,
   "id": "36ee0997",
   "metadata": {
    "execution": {
     "iopub.execute_input": "2022-07-27T18:30:21.508536Z",
     "iopub.status.busy": "2022-07-27T18:30:21.508128Z",
     "iopub.status.idle": "2022-07-27T18:30:21.806589Z",
     "shell.execute_reply": "2022-07-27T18:30:21.803817Z"
    },
    "papermill": {
     "duration": 0.312412,
     "end_time": "2022-07-27T18:30:21.809155",
     "exception": false,
     "start_time": "2022-07-27T18:30:21.496743",
     "status": "completed"
    },
    "tags": []
   },
   "outputs": [
    {
     "data": {
      "image/png": "[encoded data removed]",
      "text/plain": [
       "<Figure size 720x504 with 1 Axes>"
      ]
     },
     "metadata": {},
     "output_type": "display_data"
    }
   ],
   "source": [
    "plt.figure(figsize = (10, 7))\n",
    "ax = plt.axes()\n",
    "ax.set_facecolor('#d9ebf7')\n",
    "ax = ((train.location.value_counts())[:10]).plot(kind = 'bar', color = '#8de9b8', linewidth = 2)\n",
    "plt.title('Location Count', fontsize = 14)\n",
    "plt.xlabel('Location', fontsize = 12)\n",
    "plt.ylabel('Count', fontsize = 12)\n",
    "ax.xaxis.set_tick_params(labelsize = 12, rotation = 90)\n",
    "ax.yaxis.set_tick_params(labelsize = 12)"
   ]
  },
  {
   "cell_type": "markdown",
   "id": "b44b5e4e",
   "metadata": {
    "papermill": {
     "duration": 0.010566,
     "end_time": "2022-07-27T18:30:21.830757",
     "exception": false,
     "start_time": "2022-07-27T18:30:21.820191",
     "status": "completed"
    },
    "tags": []
   },
   "source": [
    "# Text Cleaning"
   ]
  },
  {
   "cell_type": "markdown",
   "id": "8f396529",
   "metadata": {
    "papermill": {
     "duration": 0.010474,
     "end_time": "2022-07-27T18:30:21.851764",
     "exception": false,
     "start_time": "2022-07-27T18:30:21.841290",
     "status": "completed"
    },
    "tags": []
   },
   "source": [
    "It is a good practice to remove noise from text data for NLP. Some examples of noise can be:\n",
    "* URL \n",
    "* Emoticons\n",
    "* Tags\n",
    "* Punctuation Marks"
   ]
  },
  {
   "cell_type": "code",
   "execution_count": 11,
   "id": "b75f4eff",
   "metadata": {
    "execution": {
     "iopub.execute_input": "2022-07-27T18:30:21.875466Z",
     "iopub.status.busy": "2022-07-27T18:30:21.875002Z",
     "iopub.status.idle": "2022-07-27T18:30:22.152070Z",
     "shell.execute_reply": "2022-07-27T18:30:22.150793Z"
    },
    "papermill": {
     "duration": 0.29209,
     "end_time": "2022-07-27T18:30:22.154707",
     "exception": false,
     "start_time": "2022-07-27T18:30:21.862617",
     "status": "completed"
    },
    "tags": []
   },
   "outputs": [],
   "source": [
    "# Some basic helper functions to clean text by removing urls, emojis, html tags and punctuations.\n",
    "\n",
    "def remove_URL(text):\n",
    "    url = re.compile(r'https?://\\S+|www\\.\\S+')\n",
    "    return url.sub(r'', text)\n",
    "\n",
    "\n",
    "def remove_emoji(text):\n",
    "    emoji_pattern = re.compile(\n",
    "        '['\n",
    "        u'\\U0001F600-\\U0001F64F'  # emoticons\n",
    "        u'\\U0001F300-\\U0001F5FF'  # symbols & pictographs\n",
    "        u'\\U0001F680-\\U0001F6FF'  # transport & map symbols\n",
    "        u'\\U0001F1E0-\\U0001F1FF'  # flags (iOS)\n",
    "        u'\\U00002702-\\U000027B0'\n",
    "        u'\\U000024C2-\\U0001F251'\n",
    "        ']+',\n",
    "        flags=re.UNICODE)\n",
    "    return emoji_pattern.sub(r'', text)\n",
    "\n",
    "\n",
    "def remove_html(text):\n",
    "    html = re.compile(r'<.*?>|&([a-z0-9]+|#[0-9]{1,6}|#x[0-9a-f]{1,6});')\n",
    "    return re.sub(html, '', text)\n",
    "\n",
    "\n",
    "def remove_punct(text):\n",
    "    table = str.maketrans('', '', string.punctuation)\n",
    "    return text.translate(table)\n",
    "\n",
    "# Applying helper functions on Train Dataset\n",
    "\n",
    "train['text_clean'] = train['text'].apply(lambda x: remove_URL(x))\n",
    "train['text_clean'] = train['text_clean'].apply(lambda x: remove_emoji(x))\n",
    "train['text_clean'] = train['text_clean'].apply(lambda x: remove_html(x))\n",
    "train['text_clean'] = train['text_clean'].apply(lambda x: remove_punct(x))\n",
    "\n",
    "# Applying helper functions on Test Dataset\n",
    "\n",
    "test['text_clean'] = test['text'].apply(lambda x: remove_URL(x))\n",
    "test['text_clean'] = test['text_clean'].apply(lambda x: remove_emoji(x))\n",
    "test['text_clean'] = test['text_clean'].apply(lambda x: remove_html(x))\n",
    "test['text_clean'] = test['text_clean'].apply(lambda x: remove_punct(x))"
   ]
  },
  {
   "cell_type": "markdown",
   "id": "c6cc2947",
   "metadata": {
    "papermill": {
     "duration": 0.010619,
     "end_time": "2022-07-27T18:30:22.176479",
     "exception": false,
     "start_time": "2022-07-27T18:30:22.165860",
     "status": "completed"
    },
    "tags": []
   },
   "source": [
    "# Training LSTM Model at first"
   ]
  },
  {
   "cell_type": "code",
   "execution_count": 12,
   "id": "c3926c2c",
   "metadata": {
    "execution": {
     "iopub.execute_input": "2022-07-27T18:30:22.199904Z",
     "iopub.status.busy": "2022-07-27T18:30:22.199519Z",
     "iopub.status.idle": "2022-07-27T18:30:22.216393Z",
     "shell.execute_reply": "2022-07-27T18:30:22.215272Z"
    },
    "papermill": {
     "duration": 0.031829,
     "end_time": "2022-07-27T18:30:22.218792",
     "exception": false,
     "start_time": "2022-07-27T18:30:22.186963",
     "status": "completed"
    },
    "tags": []
   },
   "outputs": [
    {
     "data": {
      "text/html": [
       "<div>\n",
       "<style scoped>\n",
       "    .dataframe tbody tr th:only-of-type {\n",
       "        vertical-align: middle;\n",
       "    }\n",
       "\n",
       "    .dataframe tbody tr th {\n",
       "        vertical-align: top;\n",
       "    }\n",
       "\n",
       "    .dataframe thead th {\n",
       "        text-align: right;\n",
       "    }\n",
       "</style>\n",
       "<table border=\"1\" class=\"dataframe\">\n",
       "  <thead>\n",
       "    <tr style=\"text-align: right;\">\n",
       "      <th></th>\n",
       "      <th>id</th>\n",
       "      <th>keyword</th>\n",
       "      <th>location</th>\n",
       "      <th>text</th>\n",
       "      <th>target</th>\n",
       "      <th>text_clean</th>\n",
       "    </tr>\n",
       "  </thead>\n",
       "  <tbody>\n",
       "    <tr>\n",
       "      <th>0</th>\n",
       "      <td>1</td>\n",
       "      <td>NaN</td>\n",
       "      <td>NaN</td>\n",
       "      <td>Our Deeds are the Reason of this #earthquake M...</td>\n",
       "      <td>1</td>\n",
       "      <td>Our Deeds are the Reason of this earthquake Ma...</td>\n",
       "    </tr>\n",
       "    <tr>\n",
       "      <th>1</th>\n",
       "      <td>4</td>\n",
       "      <td>NaN</td>\n",
       "      <td>NaN</td>\n",
       "      <td>Forest fire near La Ronge Sask. Canada</td>\n",
       "      <td>1</td>\n",
       "      <td>Forest fire near La Ronge Sask Canada</td>\n",
       "    </tr>\n",
       "    <tr>\n",
       "      <th>2</th>\n",
       "      <td>5</td>\n",
       "      <td>NaN</td>\n",
       "      <td>NaN</td>\n",
       "      <td>All residents asked to 'shelter in place' are ...</td>\n",
       "      <td>1</td>\n",
       "      <td>All residents asked to shelter in place are be...</td>\n",
       "    </tr>\n",
       "    <tr>\n",
       "      <th>3</th>\n",
       "      <td>6</td>\n",
       "      <td>NaN</td>\n",
       "      <td>NaN</td>\n",
       "      <td>13,000 people receive #wildfires evacuation or...</td>\n",
       "      <td>1</td>\n",
       "      <td>13000 people receive wildfires evacuation orde...</td>\n",
       "    </tr>\n",
       "    <tr>\n",
       "      <th>4</th>\n",
       "      <td>7</td>\n",
       "      <td>NaN</td>\n",
       "      <td>NaN</td>\n",
       "      <td>Just got sent this photo from Ruby #Alaska as ...</td>\n",
       "      <td>1</td>\n",
       "      <td>Just got sent this photo from Ruby Alaska as s...</td>\n",
       "    </tr>\n",
       "    <tr>\n",
       "      <th>...</th>\n",
       "      <td>...</td>\n",
       "      <td>...</td>\n",
       "      <td>...</td>\n",
       "      <td>...</td>\n",
       "      <td>...</td>\n",
       "      <td>...</td>\n",
       "    </tr>\n",
       "    <tr>\n",
       "      <th>7608</th>\n",
       "      <td>10869</td>\n",
       "      <td>NaN</td>\n",
       "      <td>NaN</td>\n",
       "      <td>Two giant cranes holding a bridge collapse int...</td>\n",
       "      <td>1</td>\n",
       "      <td>Two giant cranes holding a bridge collapse int...</td>\n",
       "    </tr>\n",
       "    <tr>\n",
       "      <th>7609</th>\n",
       "      <td>10870</td>\n",
       "      <td>NaN</td>\n",
       "      <td>NaN</td>\n",
       "      <td>@aria_ahrary @TheTawniest The out of control w...</td>\n",
       "      <td>1</td>\n",
       "      <td>ariaahrary TheTawniest The out of control wild...</td>\n",
       "    </tr>\n",
       "    <tr>\n",
       "      <th>7610</th>\n",
       "      <td>10871</td>\n",
       "      <td>NaN</td>\n",
       "      <td>NaN</td>\n",
       "      <td>M1.94 [01:04 UTC]?5km S of Volcano Hawaii. htt...</td>\n",
       "      <td>1</td>\n",
       "      <td>M194 0104 UTC5km S of Volcano Hawaii</td>\n",
       "    </tr>\n",
       "    <tr>\n",
       "      <th>7611</th>\n",
       "      <td>10872</td>\n",
       "      <td>NaN</td>\n",
       "      <td>NaN</td>\n",
       "      <td>Police investigating after an e-bike collided ...</td>\n",
       "      <td>1</td>\n",
       "      <td>Police investigating after an ebike collided w...</td>\n",
       "    </tr>\n",
       "    <tr>\n",
       "      <th>7612</th>\n",
       "      <td>10873</td>\n",
       "      <td>NaN</td>\n",
       "      <td>NaN</td>\n",
       "      <td>The Latest: More Homes Razed by Northern Calif...</td>\n",
       "      <td>1</td>\n",
       "      <td>The Latest More Homes Razed by Northern Califo...</td>\n",
       "    </tr>\n",
       "  </tbody>\n",
       "</table>\n",
       "<p>7613 rows × 6 columns</p>\n",
       "</div>"
      ],
      "text/plain": [
       "         id keyword location  \\\n",
       "0         1     NaN      NaN   \n",
       "1         4     NaN      NaN   \n",
       "2         5     NaN      NaN   \n",
       "3         6     NaN      NaN   \n",
       "4         7     NaN      NaN   \n",
       "...     ...     ...      ...   \n",
       "7608  10869     NaN      NaN   \n",
       "7609  10870     NaN      NaN   \n",
       "7610  10871     NaN      NaN   \n",
       "7611  10872     NaN      NaN   \n",
       "7612  10873     NaN      NaN   \n",
       "\n",
       "                                                   text  target  \\\n",
       "0     Our Deeds are the Reason of this #earthquake M...       1   \n",
       "1                Forest fire near La Ronge Sask. Canada       1   \n",
       "2     All residents asked to 'shelter in place' are ...       1   \n",
       "3     13,000 people receive #wildfires evacuation or...       1   \n",
       "4     Just got sent this photo from Ruby #Alaska as ...       1   \n",
       "...                                                 ...     ...   \n",
       "7608  Two giant cranes holding a bridge collapse int...       1   \n",
       "7609  @aria_ahrary @TheTawniest The out of control w...       1   \n",
       "7610  M1.94 [01:04 UTC]?5km S of Volcano Hawaii. htt...       1   \n",
       "7611  Police investigating after an e-bike collided ...       1   \n",
       "7612  The Latest: More Homes Razed by Northern Calif...       1   \n",
       "\n",
       "                                             text_clean  \n",
       "0     Our Deeds are the Reason of this earthquake Ma...  \n",
       "1                 Forest fire near La Ronge Sask Canada  \n",
       "2     All residents asked to shelter in place are be...  \n",
       "3     13000 people receive wildfires evacuation orde...  \n",
       "4     Just got sent this photo from Ruby Alaska as s...  \n",
       "...                                                 ...  \n",
       "7608  Two giant cranes holding a bridge collapse int...  \n",
       "7609  ariaahrary TheTawniest The out of control wild...  \n",
       "7610              M194 0104 UTC5km S of Volcano Hawaii   \n",
       "7611  Police investigating after an ebike collided w...  \n",
       "7612  The Latest More Homes Razed by Northern Califo...  \n",
       "\n",
       "[7613 rows x 6 columns]"
      ]
     },
     "execution_count": 12,
     "metadata": {},
     "output_type": "execute_result"
    }
   ],
   "source": [
    "train"
   ]
  },
  {
   "cell_type": "code",
   "execution_count": 13,
   "id": "43d03039",
   "metadata": {
    "execution": {
     "iopub.execute_input": "2022-07-27T18:30:22.242636Z",
     "iopub.status.busy": "2022-07-27T18:30:22.241644Z",
     "iopub.status.idle": "2022-07-27T18:30:22.258195Z",
     "shell.execute_reply": "2022-07-27T18:30:22.257102Z"
    },
    "papermill": {
     "duration": 0.030884,
     "end_time": "2022-07-27T18:30:22.260450",
     "exception": false,
     "start_time": "2022-07-27T18:30:22.229566",
     "status": "completed"
    },
    "tags": []
   },
   "outputs": [
    {
     "data": {
      "text/html": [
       "<div>\n",
       "<style scoped>\n",
       "    .dataframe tbody tr th:only-of-type {\n",
       "        vertical-align: middle;\n",
       "    }\n",
       "\n",
       "    .dataframe tbody tr th {\n",
       "        vertical-align: top;\n",
       "    }\n",
       "\n",
       "    .dataframe thead th {\n",
       "        text-align: right;\n",
       "    }\n",
       "</style>\n",
       "<table border=\"1\" class=\"dataframe\">\n",
       "  <thead>\n",
       "    <tr style=\"text-align: right;\">\n",
       "      <th></th>\n",
       "      <th>id</th>\n",
       "      <th>keyword</th>\n",
       "      <th>location</th>\n",
       "      <th>text</th>\n",
       "      <th>text_clean</th>\n",
       "    </tr>\n",
       "  </thead>\n",
       "  <tbody>\n",
       "    <tr>\n",
       "      <th>0</th>\n",
       "      <td>0</td>\n",
       "      <td>NaN</td>\n",
       "      <td>NaN</td>\n",
       "      <td>Just happened a terrible car crash</td>\n",
       "      <td>Just happened a terrible car crash</td>\n",
       "    </tr>\n",
       "    <tr>\n",
       "      <th>1</th>\n",
       "      <td>2</td>\n",
       "      <td>NaN</td>\n",
       "      <td>NaN</td>\n",
       "      <td>Heard about #earthquake is different cities, s...</td>\n",
       "      <td>Heard about earthquake is different cities sta...</td>\n",
       "    </tr>\n",
       "    <tr>\n",
       "      <th>2</th>\n",
       "      <td>3</td>\n",
       "      <td>NaN</td>\n",
       "      <td>NaN</td>\n",
       "      <td>there is a forest fire at spot pond, geese are...</td>\n",
       "      <td>there is a forest fire at spot pond geese are ...</td>\n",
       "    </tr>\n",
       "    <tr>\n",
       "      <th>3</th>\n",
       "      <td>9</td>\n",
       "      <td>NaN</td>\n",
       "      <td>NaN</td>\n",
       "      <td>Apocalypse lighting. #Spokane #wildfires</td>\n",
       "      <td>Apocalypse lighting Spokane wildfires</td>\n",
       "    </tr>\n",
       "    <tr>\n",
       "      <th>4</th>\n",
       "      <td>11</td>\n",
       "      <td>NaN</td>\n",
       "      <td>NaN</td>\n",
       "      <td>Typhoon Soudelor kills 28 in China and Taiwan</td>\n",
       "      <td>Typhoon Soudelor kills 28 in China and Taiwan</td>\n",
       "    </tr>\n",
       "    <tr>\n",
       "      <th>...</th>\n",
       "      <td>...</td>\n",
       "      <td>...</td>\n",
       "      <td>...</td>\n",
       "      <td>...</td>\n",
       "      <td>...</td>\n",
       "    </tr>\n",
       "    <tr>\n",
       "      <th>3258</th>\n",
       "      <td>10861</td>\n",
       "      <td>NaN</td>\n",
       "      <td>NaN</td>\n",
       "      <td>EARTHQUAKE SAFETY LOS ANGELES ÛÒ SAFETY FASTE...</td>\n",
       "      <td>EARTHQUAKE SAFETY LOS ANGELES ÛÒ SAFETY FASTE...</td>\n",
       "    </tr>\n",
       "    <tr>\n",
       "      <th>3259</th>\n",
       "      <td>10865</td>\n",
       "      <td>NaN</td>\n",
       "      <td>NaN</td>\n",
       "      <td>Storm in RI worse than last hurricane. My city...</td>\n",
       "      <td>Storm in RI worse than last hurricane My city3...</td>\n",
       "    </tr>\n",
       "    <tr>\n",
       "      <th>3260</th>\n",
       "      <td>10868</td>\n",
       "      <td>NaN</td>\n",
       "      <td>NaN</td>\n",
       "      <td>Green Line derailment in Chicago http://t.co/U...</td>\n",
       "      <td>Green Line derailment in Chicago</td>\n",
       "    </tr>\n",
       "    <tr>\n",
       "      <th>3261</th>\n",
       "      <td>10874</td>\n",
       "      <td>NaN</td>\n",
       "      <td>NaN</td>\n",
       "      <td>MEG issues Hazardous Weather Outlook (HWO) htt...</td>\n",
       "      <td>MEG issues Hazardous Weather Outlook HWO</td>\n",
       "    </tr>\n",
       "    <tr>\n",
       "      <th>3262</th>\n",
       "      <td>10875</td>\n",
       "      <td>NaN</td>\n",
       "      <td>NaN</td>\n",
       "      <td>#CityofCalgary has activated its Municipal Eme...</td>\n",
       "      <td>CityofCalgary has activated its Municipal Emer...</td>\n",
       "    </tr>\n",
       "  </tbody>\n",
       "</table>\n",
       "<p>3263 rows × 5 columns</p>\n",
       "</div>"
      ],
      "text/plain": [
       "         id keyword location  \\\n",
       "0         0     NaN      NaN   \n",
       "1         2     NaN      NaN   \n",
       "2         3     NaN      NaN   \n",
       "3         9     NaN      NaN   \n",
       "4        11     NaN      NaN   \n",
       "...     ...     ...      ...   \n",
       "3258  10861     NaN      NaN   \n",
       "3259  10865     NaN      NaN   \n",
       "3260  10868     NaN      NaN   \n",
       "3261  10874     NaN      NaN   \n",
       "3262  10875     NaN      NaN   \n",
       "\n",
       "                                                   text  \\\n",
       "0                    Just happened a terrible car crash   \n",
       "1     Heard about #earthquake is different cities, s...   \n",
       "2     there is a forest fire at spot pond, geese are...   \n",
       "3              Apocalypse lighting. #Spokane #wildfires   \n",
       "4         Typhoon Soudelor kills 28 in China and Taiwan   \n",
       "...                                                 ...   \n",
       "3258  EARTHQUAKE SAFETY LOS ANGELES ÛÒ SAFETY FASTE...   \n",
       "3259  Storm in RI worse than last hurricane. My city...   \n",
       "3260  Green Line derailment in Chicago http://t.co/U...   \n",
       "3261  MEG issues Hazardous Weather Outlook (HWO) htt...   \n",
       "3262  #CityofCalgary has activated its Municipal Eme...   \n",
       "\n",
       "                                             text_clean  \n",
       "0                    Just happened a terrible car crash  \n",
       "1     Heard about earthquake is different cities sta...  \n",
       "2     there is a forest fire at spot pond geese are ...  \n",
       "3                 Apocalypse lighting Spokane wildfires  \n",
       "4         Typhoon Soudelor kills 28 in China and Taiwan  \n",
       "...                                                 ...  \n",
       "3258  EARTHQUAKE SAFETY LOS ANGELES ÛÒ SAFETY FASTE...  \n",
       "3259  Storm in RI worse than last hurricane My city3...  \n",
       "3260                  Green Line derailment in Chicago   \n",
       "3261          MEG issues Hazardous Weather Outlook HWO   \n",
       "3262  CityofCalgary has activated its Municipal Emer...  \n",
       "\n",
       "[3263 rows x 5 columns]"
      ]
     },
     "execution_count": 13,
     "metadata": {},
     "output_type": "execute_result"
    }
   ],
   "source": [
    "test"
   ]
  },
  {
   "cell_type": "code",
   "execution_count": 14,
   "id": "4f71afa7",
   "metadata": {
    "execution": {
     "iopub.execute_input": "2022-07-27T18:30:22.285061Z",
     "iopub.status.busy": "2022-07-27T18:30:22.283796Z",
     "iopub.status.idle": "2022-07-27T18:30:22.293281Z",
     "shell.execute_reply": "2022-07-27T18:30:22.292367Z"
    },
    "papermill": {
     "duration": 0.024323,
     "end_time": "2022-07-27T18:30:22.295814",
     "exception": false,
     "start_time": "2022-07-27T18:30:22.271491",
     "status": "completed"
    },
    "tags": []
   },
   "outputs": [],
   "source": [
    "df_train = train.drop(['id','keyword','location','text'],axis=1)\n",
    "df_test = test.drop(['keyword','location','text'],axis=1)"
   ]
  },
  {
   "cell_type": "code",
   "execution_count": 15,
   "id": "384efe7a",
   "metadata": {
    "execution": {
     "iopub.execute_input": "2022-07-27T18:30:22.320889Z",
     "iopub.status.busy": "2022-07-27T18:30:22.320143Z",
     "iopub.status.idle": "2022-07-27T18:30:22.578869Z",
     "shell.execute_reply": "2022-07-27T18:30:22.577516Z"
    },
    "papermill": {
     "duration": 0.274222,
     "end_time": "2022-07-27T18:30:22.581777",
     "exception": false,
     "start_time": "2022-07-27T18:30:22.307555",
     "status": "completed"
    },
    "tags": []
   },
   "outputs": [],
   "source": [
    "# Move texts and targets from train & test dataset to the list:\n",
    "training_message = []\n",
    "testing_message = []\n",
    "training_labels = []\n",
    "for i in range(len(df_train)):\n",
    "    training_message.append(df_train.loc[i,'text_clean'])\n",
    "    training_labels.append(df_train.loc[i,'target'])\n",
    "    \n",
    "for i in range(len(df_test)):\n",
    "    testing_message.append(df_test.loc[i,'text_clean'])"
   ]
  },
  {
   "cell_type": "code",
   "execution_count": 16,
   "id": "02694475",
   "metadata": {
    "execution": {
     "iopub.execute_input": "2022-07-27T18:30:22.606917Z",
     "iopub.status.busy": "2022-07-27T18:30:22.606154Z",
     "iopub.status.idle": "2022-07-27T18:30:22.611678Z",
     "shell.execute_reply": "2022-07-27T18:30:22.610869Z"
    },
    "papermill": {
     "duration": 0.021092,
     "end_time": "2022-07-27T18:30:22.614009",
     "exception": false,
     "start_time": "2022-07-27T18:30:22.592917",
     "status": "completed"
    },
    "tags": []
   },
   "outputs": [],
   "source": [
    "vocab_size = 23000\n",
    "embedding_dim = 32\n",
    "max_length = 100\n",
    "trunc_type='post'\n",
    "padding_type='post'\n",
    "oov_tok = \"<OOV>\""
   ]
  },
  {
   "cell_type": "code",
   "execution_count": 17,
   "id": "6b67f59f",
   "metadata": {
    "execution": {
     "iopub.execute_input": "2022-07-27T18:30:22.639231Z",
     "iopub.status.busy": "2022-07-27T18:30:22.638480Z",
     "iopub.status.idle": "2022-07-27T18:30:22.840894Z",
     "shell.execute_reply": "2022-07-27T18:30:22.839467Z"
    },
    "papermill": {
     "duration": 0.218491,
     "end_time": "2022-07-27T18:30:22.843870",
     "exception": false,
     "start_time": "2022-07-27T18:30:22.625379",
     "status": "completed"
    },
    "tags": []
   },
   "outputs": [],
   "source": [
    "# Tokenization Process:\n",
    "tokenizer = Tokenizer(num_words = vocab_size, oov_token=oov_tok)\n",
    "tokenizer.fit_on_texts(training_message)\n",
    "word_index = tokenizer.word_index"
   ]
  },
  {
   "cell_type": "code",
   "execution_count": 18,
   "id": "61d6dd18",
   "metadata": {
    "execution": {
     "iopub.execute_input": "2022-07-27T18:30:22.869073Z",
     "iopub.status.busy": "2022-07-27T18:30:22.868317Z",
     "iopub.status.idle": "2022-07-27T18:30:23.074809Z",
     "shell.execute_reply": "2022-07-27T18:30:23.073541Z"
    },
    "papermill": {
     "duration": 0.222707,
     "end_time": "2022-07-27T18:30:23.077946",
     "exception": false,
     "start_time": "2022-07-27T18:30:22.855239",
     "status": "completed"
    },
    "tags": []
   },
   "outputs": [],
   "source": [
    "# texts_to_sequences Process:\n",
    "training_message = tokenizer.texts_to_sequences(training_message)\n",
    "testing_message = tokenizer.texts_to_sequences(testing_message)"
   ]
  },
  {
   "cell_type": "code",
   "execution_count": 19,
   "id": "37f96aa1",
   "metadata": {
    "execution": {
     "iopub.execute_input": "2022-07-27T18:30:23.102857Z",
     "iopub.status.busy": "2022-07-27T18:30:23.102164Z",
     "iopub.status.idle": "2022-07-27T18:30:23.168546Z",
     "shell.execute_reply": "2022-07-27T18:30:23.167621Z"
    },
    "papermill": {
     "duration": 0.081873,
     "end_time": "2022-07-27T18:30:23.171265",
     "exception": false,
     "start_time": "2022-07-27T18:30:23.089392",
     "status": "completed"
    },
    "tags": []
   },
   "outputs": [],
   "source": [
    "#pad_sequences Process:\n",
    "training_padded = pad_sequences(training_message,maxlen=max_length, truncating=trunc_type, padding=padding_type)\n",
    "testing_padded = pad_sequences(testing_message,maxlen=max_length, truncating=trunc_type, padding=padding_type)"
   ]
  },
  {
   "cell_type": "code",
   "execution_count": 20,
   "id": "cd1f7957",
   "metadata": {
    "execution": {
     "iopub.execute_input": "2022-07-27T18:30:23.196916Z",
     "iopub.status.busy": "2022-07-27T18:30:23.196105Z",
     "iopub.status.idle": "2022-07-27T18:30:23.208338Z",
     "shell.execute_reply": "2022-07-27T18:30:23.206517Z"
    },
    "papermill": {
     "duration": 0.028259,
     "end_time": "2022-07-27T18:30:23.211124",
     "exception": false,
     "start_time": "2022-07-27T18:30:23.182865",
     "status": "completed"
    },
    "tags": []
   },
   "outputs": [],
   "source": [
    "training_padded = np.array(training_padded)\n",
    "testing_padded = np.array(testing_padded)\n",
    "training_labels = np.array(training_labels)"
   ]
  },
  {
   "cell_type": "code",
   "execution_count": 21,
   "id": "54ee5907",
   "metadata": {
    "execution": {
     "iopub.execute_input": "2022-07-27T18:30:23.235946Z",
     "iopub.status.busy": "2022-07-27T18:30:23.234820Z",
     "iopub.status.idle": "2022-07-27T18:30:23.936487Z",
     "shell.execute_reply": "2022-07-27T18:30:23.935092Z"
    },
    "papermill": {
     "duration": 0.716738,
     "end_time": "2022-07-27T18:30:23.939163",
     "exception": false,
     "start_time": "2022-07-27T18:30:23.222425",
     "status": "completed"
    },
    "tags": []
   },
   "outputs": [
    {
     "name": "stderr",
     "output_type": "stream",
     "text": [
      "2022-07-27 18:30:23.289365: I tensorflow/core/common_runtime/process_util.cc:146] Creating new thread pool with default inter op setting: 2. Tune using inter_op_parallelism_threads for best performance.\n"
     ]
    },
    {
     "name": "stdout",
     "output_type": "stream",
     "text": [
      "Model: \"sequential\"\n",
      "_________________________________________________________________\n",
      "Layer (type)                 Output Shape              Param #   \n",
      "=================================================================\n",
      "embedding (Embedding)        (None, 100, 32)           736000    \n",
      "_________________________________________________________________\n",
      "bidirectional (Bidirectional (None, 24)                4320      \n",
      "_________________________________________________________________\n",
      "dense (Dense)                (None, 1)                 25        \n",
      "=================================================================\n",
      "Total params: 740,345\n",
      "Trainable params: 740,345\n",
      "Non-trainable params: 0\n",
      "_________________________________________________________________\n"
     ]
    }
   ],
   "source": [
    "model = tf.keras.Sequential([\n",
    "    tf.keras.layers.Embedding(vocab_size, embedding_dim, input_length=max_length),\n",
    "    tf.keras.layers.Bidirectional(tf.keras.layers.LSTM(12)),\n",
    "    tf.keras.layers.Dense(1, activation = 'sigmoid')\n",
    "])\n",
    "\n",
    "model.compile(\n",
    "    loss='binary_crossentropy',\n",
    "    optimizer='Adamax',\n",
    "    metrics=['accuracy', tf.keras.metrics.Precision(), tf.keras.metrics.Recall()]\n",
    ")\n",
    "\n",
    "model.summary()"
   ]
  },
  {
   "cell_type": "code",
   "execution_count": 22,
   "id": "66178ce1",
   "metadata": {
    "execution": {
     "iopub.execute_input": "2022-07-27T18:30:23.963890Z",
     "iopub.status.busy": "2022-07-27T18:30:23.963481Z",
     "iopub.status.idle": "2022-07-27T18:37:25.446956Z",
     "shell.execute_reply": "2022-07-27T18:37:25.446083Z"
    },
    "papermill": {
     "duration": 421.498863,
     "end_time": "2022-07-27T18:37:25.449596",
     "exception": false,
     "start_time": "2022-07-27T18:30:23.950733",
     "status": "completed"
    },
    "tags": []
   },
   "outputs": [
    {
     "name": "stdout",
     "output_type": "stream",
     "text": [
      "Epoch 1/50\n"
     ]
    },
    {
     "name": "stderr",
     "output_type": "stream",
     "text": [
      "2022-07-27 18:30:24.024796: I tensorflow/compiler/mlir/mlir_graph_optimization_pass.cc:185] None of the MLIR Optimization Passes are enabled (registered 2)\n"
     ]
    },
    {
     "name": "stdout",
     "output_type": "stream",
     "text": [
      "96/96 [==============================] - 15s 107ms/step - loss: 0.6780 - accuracy: 0.5793 - precision: 0.5000 - recall: 7.8064e-04 - val_loss: 0.6858 - val_accuracy: 0.5345 - val_precision: 0.0000e+00 - val_recall: 0.0000e+00\n",
      "Epoch 2/50\n",
      "96/96 [==============================] - 8s 88ms/step - loss: 0.6460 - accuracy: 0.5910 - precision: 1.0000 - recall: 0.0277 - val_loss: 0.6457 - val_accuracy: 0.5529 - val_precision: 1.0000 - val_recall: 0.0395\n",
      "Epoch 3/50\n",
      "96/96 [==============================] - 9s 89ms/step - loss: 0.5735 - accuracy: 0.7169 - precision: 0.8809 - recall: 0.3782 - val_loss: 0.5874 - val_accuracy: 0.7131 - val_precision: 0.8505 - val_recall: 0.4654\n",
      "Epoch 4/50\n",
      "96/96 [==============================] - 10s 99ms/step - loss: 0.5121 - accuracy: 0.7787 - precision: 0.8063 - recall: 0.6237 - val_loss: 0.5455 - val_accuracy: 0.7479 - val_precision: 0.7731 - val_recall: 0.6488\n",
      "Epoch 5/50\n",
      "96/96 [==============================] - 8s 85ms/step - loss: 0.4690 - accuracy: 0.8000 - precision: 0.7973 - recall: 0.7034 - val_loss: 0.5203 - val_accuracy: 0.7643 - val_precision: 0.8038 - val_recall: 0.6530\n",
      "Epoch 6/50\n",
      "96/96 [==============================] - 8s 85ms/step - loss: 0.4337 - accuracy: 0.8197 - precision: 0.8253 - recall: 0.7248 - val_loss: 0.4985 - val_accuracy: 0.7761 - val_precision: 0.8007 - val_recall: 0.6911\n",
      "Epoch 7/50\n",
      "96/96 [==============================] - 8s 83ms/step - loss: 0.4050 - accuracy: 0.8342 - precision: 0.8401 - recall: 0.7482 - val_loss: 0.4878 - val_accuracy: 0.7781 - val_precision: 0.8107 - val_recall: 0.6827\n",
      "Epoch 8/50\n",
      "96/96 [==============================] - 9s 92ms/step - loss: 0.3819 - accuracy: 0.8484 - precision: 0.8602 - recall: 0.7639 - val_loss: 0.4824 - val_accuracy: 0.7735 - val_precision: 0.8193 - val_recall: 0.6587\n",
      "Epoch 9/50\n",
      "96/96 [==============================] - 8s 84ms/step - loss: 0.3599 - accuracy: 0.8591 - precision: 0.8724 - recall: 0.7791 - val_loss: 0.4723 - val_accuracy: 0.7873 - val_precision: 0.8060 - val_recall: 0.7151\n",
      "Epoch 10/50\n",
      "96/96 [==============================] - 8s 83ms/step - loss: 0.3383 - accuracy: 0.8719 - precision: 0.8817 - recall: 0.8033 - val_loss: 0.4737 - val_accuracy: 0.7905 - val_precision: 0.8409 - val_recall: 0.6784\n",
      "Epoch 11/50\n",
      "96/96 [==============================] - 8s 83ms/step - loss: 0.3193 - accuracy: 0.8801 - precision: 0.8905 - recall: 0.8154 - val_loss: 0.4694 - val_accuracy: 0.7873 - val_precision: 0.8110 - val_recall: 0.7080\n",
      "Epoch 12/50\n",
      "96/96 [==============================] - 9s 91ms/step - loss: 0.3019 - accuracy: 0.8877 - precision: 0.8952 - recall: 0.8302 - val_loss: 0.4727 - val_accuracy: 0.7840 - val_precision: 0.7987 - val_recall: 0.7165\n",
      "Epoch 13/50\n",
      "96/96 [==============================] - 8s 80ms/step - loss: 0.2843 - accuracy: 0.8966 - precision: 0.9104 - recall: 0.8365 - val_loss: 0.4738 - val_accuracy: 0.7873 - val_precision: 0.8161 - val_recall: 0.7010\n",
      "Epoch 14/50\n",
      "96/96 [==============================] - 8s 81ms/step - loss: 0.2659 - accuracy: 0.9041 - precision: 0.9187 - recall: 0.8470 - val_loss: 0.4783 - val_accuracy: 0.7787 - val_precision: 0.7897 - val_recall: 0.7151\n",
      "Epoch 15/50\n",
      "96/96 [==============================] - 8s 84ms/step - loss: 0.2493 - accuracy: 0.9130 - precision: 0.9247 - recall: 0.8634 - val_loss: 0.4874 - val_accuracy: 0.7741 - val_precision: 0.7656 - val_recall: 0.7419\n",
      "Epoch 16/50\n",
      "96/96 [==============================] - 9s 95ms/step - loss: 0.2330 - accuracy: 0.9210 - precision: 0.9330 - recall: 0.8751 - val_loss: 0.4944 - val_accuracy: 0.7715 - val_precision: 0.7722 - val_recall: 0.7221\n",
      "Epoch 17/50\n",
      "96/96 [==============================] - 8s 87ms/step - loss: 0.2178 - accuracy: 0.9274 - precision: 0.9395 - recall: 0.8845 - val_loss: 0.5000 - val_accuracy: 0.7722 - val_precision: 0.7751 - val_recall: 0.7193\n",
      "Epoch 18/50\n",
      "96/96 [==============================] - 8s 86ms/step - loss: 0.2032 - accuracy: 0.9319 - precision: 0.9380 - recall: 0.8973 - val_loss: 0.5089 - val_accuracy: 0.7754 - val_precision: 0.7785 - val_recall: 0.7236\n",
      "Epoch 19/50\n",
      "96/96 [==============================] - 8s 86ms/step - loss: 0.1897 - accuracy: 0.9383 - precision: 0.9502 - recall: 0.9005 - val_loss: 0.5308 - val_accuracy: 0.7728 - val_precision: 0.7771 - val_recall: 0.7179\n",
      "Epoch 20/50\n",
      "96/96 [==============================] - 9s 90ms/step - loss: 0.1768 - accuracy: 0.9415 - precision: 0.9506 - recall: 0.9083 - val_loss: 0.5428 - val_accuracy: 0.7748 - val_precision: 0.7542 - val_recall: 0.7659\n",
      "Epoch 21/50\n",
      "96/96 [==============================] - 8s 86ms/step - loss: 0.1653 - accuracy: 0.9471 - precision: 0.9564 - recall: 0.9161 - val_loss: 0.5449 - val_accuracy: 0.7761 - val_precision: 0.7754 - val_recall: 0.7306\n",
      "Epoch 22/50\n",
      "96/96 [==============================] - 8s 87ms/step - loss: 0.1540 - accuracy: 0.9512 - precision: 0.9636 - recall: 0.9188 - val_loss: 0.5577 - val_accuracy: 0.7676 - val_precision: 0.7718 - val_recall: 0.7109\n",
      "Epoch 23/50\n",
      "96/96 [==============================] - 8s 85ms/step - loss: 0.1446 - accuracy: 0.9550 - precision: 0.9677 - recall: 0.9239 - val_loss: 0.5686 - val_accuracy: 0.7682 - val_precision: 0.7580 - val_recall: 0.7377\n",
      "Epoch 24/50\n",
      "96/96 [==============================] - 9s 93ms/step - loss: 0.1358 - accuracy: 0.9581 - precision: 0.9691 - recall: 0.9301 - val_loss: 0.5789 - val_accuracy: 0.7682 - val_precision: 0.7595 - val_recall: 0.7348\n",
      "Epoch 25/50\n",
      "96/96 [==============================] - 8s 85ms/step - loss: 0.1275 - accuracy: 0.9616 - precision: 0.9690 - recall: 0.9387 - val_loss: 0.6039 - val_accuracy: 0.7656 - val_precision: 0.7378 - val_recall: 0.7701\n",
      "Epoch 26/50\n",
      "96/96 [==============================] - 8s 89ms/step - loss: 0.1205 - accuracy: 0.9644 - precision: 0.9715 - recall: 0.9430 - val_loss: 0.5982 - val_accuracy: 0.7643 - val_precision: 0.7514 - val_recall: 0.7377\n",
      "Epoch 27/50\n",
      "96/96 [==============================] - 9s 94ms/step - loss: 0.1130 - accuracy: 0.9668 - precision: 0.9762 - recall: 0.9442 - val_loss: 0.6053 - val_accuracy: 0.7689 - val_precision: 0.7583 - val_recall: 0.7391\n",
      "Epoch 28/50\n",
      "96/96 [==============================] - 8s 82ms/step - loss: 0.1079 - accuracy: 0.9672 - precision: 0.9732 - recall: 0.9481 - val_loss: 0.6175 - val_accuracy: 0.7610 - val_precision: 0.7504 - val_recall: 0.7292\n",
      "Epoch 29/50\n",
      "96/96 [==============================] - 8s 81ms/step - loss: 0.1028 - accuracy: 0.9677 - precision: 0.9721 - recall: 0.9504 - val_loss: 0.6249 - val_accuracy: 0.7663 - val_precision: 0.7592 - val_recall: 0.7292\n",
      "Epoch 30/50\n",
      "96/96 [==============================] - 8s 82ms/step - loss: 0.0967 - accuracy: 0.9696 - precision: 0.9752 - recall: 0.9520 - val_loss: 0.6431 - val_accuracy: 0.7597 - val_precision: 0.7359 - val_recall: 0.7546\n",
      "Epoch 31/50\n",
      "96/96 [==============================] - 9s 92ms/step - loss: 0.0919 - accuracy: 0.9722 - precision: 0.9780 - recall: 0.9555 - val_loss: 0.6456 - val_accuracy: 0.7564 - val_precision: 0.7253 - val_recall: 0.7673\n",
      "Epoch 32/50\n",
      "96/96 [==============================] - 9s 88ms/step - loss: 0.0865 - accuracy: 0.9722 - precision: 0.9780 - recall: 0.9555 - val_loss: 0.6596 - val_accuracy: 0.7590 - val_precision: 0.7422 - val_recall: 0.7391\n",
      "Epoch 33/50\n",
      "96/96 [==============================] - 8s 85ms/step - loss: 0.0829 - accuracy: 0.9737 - precision: 0.9785 - recall: 0.9586 - val_loss: 0.6627 - val_accuracy: 0.7636 - val_precision: 0.7518 - val_recall: 0.7348\n",
      "Epoch 34/50\n",
      "96/96 [==============================] - 8s 83ms/step - loss: 0.0809 - accuracy: 0.9727 - precision: 0.9750 - recall: 0.9598 - val_loss: 0.6798 - val_accuracy: 0.7676 - val_precision: 0.7693 - val_recall: 0.7151\n",
      "Epoch 35/50\n",
      "96/96 [==============================] - 9s 92ms/step - loss: 0.0777 - accuracy: 0.9737 - precision: 0.9777 - recall: 0.9594 - val_loss: 0.6895 - val_accuracy: 0.7590 - val_precision: 0.7368 - val_recall: 0.7504\n",
      "Epoch 36/50\n",
      "96/96 [==============================] - 8s 87ms/step - loss: 0.0715 - accuracy: 0.9768 - precision: 0.9825 - recall: 0.9621 - val_loss: 0.7113 - val_accuracy: 0.7557 - val_precision: 0.7324 - val_recall: 0.7489\n",
      "Epoch 37/50\n",
      "96/96 [==============================] - 8s 85ms/step - loss: 0.0690 - accuracy: 0.9780 - precision: 0.9817 - recall: 0.9657 - val_loss: 0.7078 - val_accuracy: 0.7630 - val_precision: 0.7529 - val_recall: 0.7306\n",
      "Epoch 38/50\n",
      "96/96 [==============================] - 8s 86ms/step - loss: 0.0661 - accuracy: 0.9780 - precision: 0.9848 - recall: 0.9625 - val_loss: 0.7174 - val_accuracy: 0.7577 - val_precision: 0.7401 - val_recall: 0.7391\n",
      "Epoch 39/50\n",
      "96/96 [==============================] - 9s 94ms/step - loss: 0.0634 - accuracy: 0.9772 - precision: 0.9813 - recall: 0.9641 - val_loss: 0.7389 - val_accuracy: 0.7597 - val_precision: 0.7468 - val_recall: 0.7320\n",
      "Epoch 40/50\n",
      "96/96 [==============================] - 8s 84ms/step - loss: 0.0622 - accuracy: 0.9787 - precision: 0.9852 - recall: 0.9637 - val_loss: 0.7323 - val_accuracy: 0.7610 - val_precision: 0.7482 - val_recall: 0.7334\n",
      "Epoch 41/50\n",
      "96/96 [==============================] - 8s 82ms/step - loss: 0.0599 - accuracy: 0.9810 - precision: 0.9876 - recall: 0.9668 - val_loss: 0.7432 - val_accuracy: 0.7617 - val_precision: 0.7486 - val_recall: 0.7348\n",
      "Epoch 42/50\n",
      "96/96 [==============================] - 8s 83ms/step - loss: 0.0589 - accuracy: 0.9803 - precision: 0.9865 - recall: 0.9664 - val_loss: 0.7480 - val_accuracy: 0.7577 - val_precision: 0.7422 - val_recall: 0.7348\n",
      "Epoch 43/50\n",
      "96/96 [==============================] - 9s 92ms/step - loss: 0.0558 - accuracy: 0.9805 - precision: 0.9853 - recall: 0.9680 - val_loss: 0.7767 - val_accuracy: 0.7505 - val_precision: 0.7220 - val_recall: 0.7546\n",
      "Epoch 44/50\n",
      "96/96 [==============================] - 8s 87ms/step - loss: 0.0542 - accuracy: 0.9819 - precision: 0.9857 - recall: 0.9711 - val_loss: 0.7743 - val_accuracy: 0.7603 - val_precision: 0.7464 - val_recall: 0.7348\n",
      "Epoch 45/50\n",
      "96/96 [==============================] - 8s 83ms/step - loss: 0.0529 - accuracy: 0.9803 - precision: 0.9841 - recall: 0.9688 - val_loss: 0.7968 - val_accuracy: 0.7557 - val_precision: 0.7467 - val_recall: 0.7193\n",
      "Epoch 46/50\n",
      "96/96 [==============================] - 8s 82ms/step - loss: 0.0551 - accuracy: 0.9798 - precision: 0.9818 - recall: 0.9699 - val_loss: 0.8058 - val_accuracy: 0.7439 - val_precision: 0.7006 - val_recall: 0.7856\n",
      "Epoch 47/50\n",
      "96/96 [==============================] - 9s 92ms/step - loss: 0.0504 - accuracy: 0.9821 - precision: 0.9888 - recall: 0.9684 - val_loss: 0.8015 - val_accuracy: 0.7518 - val_precision: 0.7258 - val_recall: 0.7504\n",
      "Epoch 48/50\n",
      "96/96 [==============================] - 8s 84ms/step - loss: 0.0483 - accuracy: 0.9823 - precision: 0.9888 - recall: 0.9688 - val_loss: 0.8077 - val_accuracy: 0.7557 - val_precision: 0.7299 - val_recall: 0.7546\n",
      "Epoch 49/50\n",
      "96/96 [==============================] - 8s 81ms/step - loss: 0.0471 - accuracy: 0.9816 - precision: 0.9861 - recall: 0.9699 - val_loss: 0.8183 - val_accuracy: 0.7557 - val_precision: 0.7331 - val_recall: 0.7475\n",
      "Epoch 50/50\n",
      "96/96 [==============================] - 8s 81ms/step - loss: 0.0462 - accuracy: 0.9816 - precision: 0.9838 - recall: 0.9723 - val_loss: 0.8248 - val_accuracy: 0.7511 - val_precision: 0.7230 - val_recall: 0.7546\n"
     ]
    }
   ],
   "source": [
    "history = model.fit(\n",
    "    training_padded, \n",
    "    training_labels, \n",
    "    epochs = 50, \n",
    "    batch_size = 64,  \n",
    "    validation_split=0.2\n",
    ")"
   ]
  },
  {
   "cell_type": "code",
   "execution_count": 23,
   "id": "d3bd2b51",
   "metadata": {
    "execution": {
     "iopub.execute_input": "2022-07-27T18:37:26.167830Z",
     "iopub.status.busy": "2022-07-27T18:37:26.167110Z",
     "iopub.status.idle": "2022-07-27T18:37:26.419723Z",
     "shell.execute_reply": "2022-07-27T18:37:26.418376Z"
    },
    "papermill": {
     "duration": 0.615273,
     "end_time": "2022-07-27T18:37:26.422199",
     "exception": false,
     "start_time": "2022-07-27T18:37:25.806926",
     "status": "completed"
    },
    "tags": []
   },
   "outputs": [
    {
     "data": {
      "image/png": "[encoded data removed]",
      "text/plain": [
       "<Figure size 432x288 with 1 Axes>"
      ]
     },
     "metadata": {},
     "output_type": "display_data"
    }
   ],
   "source": [
    "plt.plot(history.history[\"accuracy\"], color=\"r\")\n",
    "plt.plot(history.history[\"val_accuracy\"], color=\"g\")\n",
    "plt.legend([\"Training\", \"Validation\"])\n",
    "plt.xlabel(\"epochs\")\n",
    "plt.ylabel(\"accuracy\")\n",
    "plt.show()"
   ]
  },
  {
   "cell_type": "code",
   "execution_count": 24,
   "id": "f717e170",
   "metadata": {
    "execution": {
     "iopub.execute_input": "2022-07-27T18:37:27.192938Z",
     "iopub.status.busy": "2022-07-27T18:37:27.192524Z",
     "iopub.status.idle": "2022-07-27T18:37:29.115069Z",
     "shell.execute_reply": "2022-07-27T18:37:29.113846Z"
    },
    "papermill": {
     "duration": 2.341561,
     "end_time": "2022-07-27T18:37:29.117600",
     "exception": false,
     "start_time": "2022-07-27T18:37:26.776039",
     "status": "completed"
    },
    "tags": []
   },
   "outputs": [],
   "source": [
    "test_predict = model.predict(testing_padded).round().astype(int)"
   ]
  },
  {
   "cell_type": "markdown",
   "id": "e3a112c6",
   "metadata": {
    "papermill": {
     "duration": 0.352072,
     "end_time": "2022-07-27T18:37:29.824685",
     "exception": false,
     "start_time": "2022-07-27T18:37:29.472613",
     "status": "completed"
    },
    "tags": []
   },
   "source": [
    "# Submission"
   ]
  },
  {
   "cell_type": "code",
   "execution_count": 25,
   "id": "7e56152e",
   "metadata": {
    "execution": {
     "iopub.execute_input": "2022-07-27T18:37:30.535619Z",
     "iopub.status.busy": "2022-07-27T18:37:30.534918Z",
     "iopub.status.idle": "2022-07-27T18:37:30.548698Z",
     "shell.execute_reply": "2022-07-27T18:37:30.547906Z"
    },
    "papermill": {
     "duration": 0.370888,
     "end_time": "2022-07-27T18:37:30.551148",
     "exception": false,
     "start_time": "2022-07-27T18:37:30.180260",
     "status": "completed"
    },
    "tags": []
   },
   "outputs": [],
   "source": [
    "submission = pd.DataFrame({'id':df_test['id'],'target':test_predict.ravel()})\n",
    "submission.to_csv('submission.csv',index=False)"
   ]
  }
 ],
 "metadata": {
  "kernelspec": {
   "display_name": "Python 3",
   "language": "python",
   "name": "python3"
  },
  "language_info": {
   "codemirror_mode": {
    "name": "ipython",
    "version": 3
   },
   "file_extension": ".py",
   "mimetype": "text/x-python",
   "name": "python",
   "nbconvert_exporter": "python",
   "pygments_lexer": "ipython3",
   "version": "3.7.12"
  },
  "papermill": {
   "default_parameters": {},
   "duration": 460.078945,
   "end_time": "2022-07-27T18:37:34.395956",
   "environment_variables": {},
   "exception": null,
   "input_path": "__notebook__.ipynb",
   "output_path": "__notebook__.ipynb",
   "parameters": {},
   "start_time": "2022-07-27T18:29:54.317011",
   "version": "2.3.4"
  }
 },
 "nbformat": 4,
 "nbformat_minor": 5
}
